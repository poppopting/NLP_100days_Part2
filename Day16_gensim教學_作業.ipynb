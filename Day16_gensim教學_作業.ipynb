{
 "cells": [
  {
   "cell_type": "markdown",
   "metadata": {},
   "source": [
    "# 作業 : 調整 word2vec 模型的不同訓練參數"
   ]
  },
  {
   "cell_type": "markdown",
   "metadata": {},
   "source": [
    "# [作業目標]\n",
    "- 調整 word2vec 模型的不同參數, 分別觀察效果並比較"
   ]
  },
  {
   "cell_type": "markdown",
   "metadata": {},
   "source": [
    "# [作業重點]\n",
    "- 調整 word2vec 模型的不同訓練參數, 分別觀察效果並比較"
   ]
  },
  {
   "cell_type": "code",
   "execution_count": 1,
   "metadata": {},
   "outputs": [],
   "source": [
    "# 載入 gensim 與 word2vec 模型\n",
    "import gensim\n",
    "from gensim.models import word2vec\n",
    "\n",
    "# 忽略警告訊息\n",
    "import warnings\n",
    "warnings.filterwarnings(\"ignore\")"
   ]
  },
  {
   "cell_type": "markdown",
   "metadata": {},
   "source": [
    "# Word2Vec 訓練參數\n",
    "- size : 詞向量的維度\n",
    "- min_count : 最小次數，一個詞出現的次數若小於 min_count，則拋棄不參與訓練。\n",
    "- window : 訓練窗格大小，也就是一個詞在看上下文關係時，上下應該各看幾個字的意思。\n",
    "- 更多參數說明，請參閱官方文件\n",
    "https://radimrehurek.com/gensim/models/word2vec.html#gensim.models.word2vec.Text8Corpus"
   ]
  },
  {
   "cell_type": "code",
   "execution_count": 2,
   "metadata": {},
   "outputs": [],
   "source": [
    "# 使用 gensim 訓練 word2vec 詞向量\n",
    "sentences = word2vec.Text8Corpus('text8')"
   ]
  },
  {
   "cell_type": "code",
   "execution_count": 5,
   "metadata": {},
   "outputs": [],
   "source": [
    "def monitor_params(sentences, size=10, min_count=3, window=5):\n",
    "    model = word2vec.Word2Vec(sentences, size=10, min_count=3, window=5)\n",
    "\n",
    "    # 顯示最相近的字彙\n",
    "    print('最接近 woman 的字彙:\\n', model.most_similar(['woman']))\n",
    "    \n",
    "    # 顯示最相近的字彙(附加反義詞)\n",
    "    print('最接近 woman, king 的字彙(附加反義詞 man):\\n', model.most_similar(positive=['woman', 'king'], negative=['man'], topn=5))\n",
    "    \n",
    "    # 挑選最不相同的字彙\n",
    "    print('挑選最不相同的字彙 breakfast cereal dinner lunch:\\n', model.wv.doesnt_match(\"breakfast cereal dinner lunch\".split()))\n",
    "    \n",
    "    # 顯示字彙間的相似性\n",
    "    print('woman, man 的相似性:', model.wv.similarity('woman', 'man'))"
   ]
  },
  {
   "cell_type": "code",
   "execution_count": 6,
   "metadata": {},
   "outputs": [
    {
     "name": "stdout",
     "output_type": "stream",
     "text": [
      "最接近 woman 的字彙:\n",
      " [('siblings', 0.9479480385780334), ('angry', 0.9464276432991028), ('husband', 0.9290218353271484), ('marry', 0.9101377725601196), ('immortal', 0.9017375707626343), ('younger', 0.9009486436843872), ('elisha', 0.899743914604187), ('curse', 0.8978018760681152), ('fond', 0.8960299491882324), ('loved', 0.8945136070251465)]\n",
      "最接近 woman, king 的字彙(附加反義詞 man):\n",
      " [('deposed', 0.9516410827636719), ('consul', 0.9437243938446045), ('reigned', 0.9351622462272644), ('assassinated', 0.9116154313087463), ('succeeded', 0.9076654314994812)]\n",
      "挑選最不相同的字彙 breakfast cereal dinner lunch:\n",
      " cereal\n",
      "woman, man 的相似性: 0.8588348\n"
     ]
    }
   ],
   "source": [
    "monitor_params(sentences, size=10, min_count=3, window=5)"
   ]
  },
  {
   "cell_type": "code",
   "execution_count": 7,
   "metadata": {},
   "outputs": [
    {
     "name": "stdout",
     "output_type": "stream",
     "text": [
      "最接近 woman 的字彙:\n",
      " [('siblings', 0.9340448379516602), ('husband', 0.9328405857086182), ('babies', 0.9155360460281372), ('younger', 0.9126409292221069), ('agrippina', 0.912361204624176), ('angry', 0.9116337895393372), ('lover', 0.9075848460197449), ('brother', 0.9050017595291138), ('trentham', 0.9049727916717529), ('youngblood', 0.9048697352409363)]\n",
      "最接近 woman, king 的字彙(附加反義詞 man):\n",
      " [('consul', 0.952629804611206), ('deposed', 0.9477171301841736), ('reigned', 0.9302650690078735), ('emperor', 0.9197748899459839), ('sons', 0.9165083765983582)]\n",
      "挑選最不相同的字彙 breakfast cereal dinner lunch:\n",
      " cereal\n",
      "woman, man 的相似性: 0.8552582\n"
     ]
    }
   ],
   "source": [
    "monitor_params(sentences, size=20, min_count=3, window=5)"
   ]
  },
  {
   "cell_type": "code",
   "execution_count": 8,
   "metadata": {},
   "outputs": [
    {
     "name": "stdout",
     "output_type": "stream",
     "text": [
      "最接近 woman 的字彙:\n",
      " [('husband', 0.9380611777305603), ('siblings', 0.9353934526443481), ('angry', 0.9296751022338867), ('cry', 0.9177642464637756), ('sing', 0.9107460379600525), ('marry', 0.9090532064437866), ('younger', 0.9074653387069702), ('immortal', 0.9047055244445801), ('daughters', 0.900568962097168), ('lover', 0.8990598917007446)]\n",
      "最接近 woman, king 的字彙(附加反義詞 man):\n",
      " [('deposed', 0.948468804359436), ('consul', 0.9415410757064819), ('reigned', 0.9285194277763367), ('tsar', 0.9234431385993958), ('empress', 0.9135143160820007)]\n",
      "挑選最不相同的字彙 breakfast cereal dinner lunch:\n",
      " cereal\n",
      "woman, man 的相似性: 0.8683231\n"
     ]
    }
   ],
   "source": [
    "monitor_params(sentences, size=10, min_count=10, window=5)"
   ]
  },
  {
   "cell_type": "code",
   "execution_count": 13,
   "metadata": {},
   "outputs": [
    {
     "name": "stdout",
     "output_type": "stream",
     "text": [
      "最接近 woman 的字彙:\n",
      " [('husband', 0.9462893605232239), ('angry', 0.9427597522735596), ('marry', 0.9180772304534912), ('elisha', 0.910162091255188), ('wrath', 0.9100412130355835), ('siblings', 0.9097845554351807), ('faramir', 0.9078795313835144), ('wife', 0.9075127840042114), ('immortal', 0.9063239097595215), ('agrippina', 0.9062616229057312)]\n",
      "最接近 woman, king 的字彙(附加反義詞 man):\n",
      " [('deposed', 0.9552881121635437), ('reigned', 0.9503858685493469), ('consul', 0.946864128112793), ('sultan', 0.9428558349609375), ('empress', 0.9385917782783508)]\n",
      "挑選最不相同的字彙 breakfast cereal dinner lunch:\n",
      " cereal\n",
      "woman, man 的相似性: 0.884604\n"
     ]
    }
   ],
   "source": [
    "monitor_params(sentences, size=10, min_count=3, window=9)"
   ]
  },
  {
   "cell_type": "markdown",
   "metadata": {},
   "source": [
    "```\n",
    "將size調高，可以看出模型更能學出字辭具備的意思，以最接近 woman 的字彙為例，size=20時所輸出的字彙較符合人為判斷\n",
    "\n",
    "將min_count調高，模型也較能學出字辭具備的意思，但與將size調高的結果不同，以最接近 woman 的字彙為例，將min_count調高時，所輸出的字彙較屬於\"描述\"woman的辭，而將size調高所輸出的字彙較屬於與woman相近的\"人\"的詞\n",
    "\n",
    "將window調高，能夠收集較多的字，進而訓練出更好表達字詞的向量，但卻可能因納入的詞彙太多，而沒有有效的學習到較適當的字，以最接近 woman 的字彙為例，將window調高能夠找出相似字\"wife\"，卻出現較多不相關的詞彙\n",
    "```"
   ]
  }
 ],
 "metadata": {
  "kernelspec": {
   "display_name": "Python 3",
   "language": "python",
   "name": "python3"
  },
  "language_info": {
   "codemirror_mode": {
    "name": "ipython",
    "version": 3
   },
   "file_extension": ".py",
   "mimetype": "text/x-python",
   "name": "python",
   "nbconvert_exporter": "python",
   "pygments_lexer": "ipython3",
   "version": "3.6.5"
  }
 },
 "nbformat": 4,
 "nbformat_minor": 2
}
