{
 "cells": [
  {
   "cell_type": "markdown",
   "metadata": {},
   "source": [
    "### 作業目的: 了解為何需要推論方法的詞向量及其優缺點\n",
    "\n",
    "本次作業主要為思考題，請學員根據題目思考適合的回答"
   ]
  },
  {
   "cell_type": "markdown",
   "metadata": {},
   "source": [
    "### Q1:\n",
    "請學員思考為何不直接使用one-hot encoding的方式建立詞向量，而要有其他計數方法與推論方法的詞向量產生方式？"
   ]
  },
  {
   "cell_type": "markdown",
   "metadata": {},
   "source": [
    "### Answer:\n",
    "使用one-hot encoding的方式建立詞向量時所能提供的資訊量較少(稀疏)，卻也占據了相當程度的記憶體，是較不具有效率的方法"
   ]
  },
  {
   "cell_type": "markdown",
   "metadata": {},
   "source": [
    "### Q2:\n",
    "相較於計數手法的詞向量(ex: one-hot, 共現矩陣, PPMI)，word2vec的方法有何優點？"
   ]
  },
  {
   "cell_type": "markdown",
   "metadata": {},
   "source": [
    "### Answer:\n",
    "對於計數手法的詞向量，若遇到詞彙量較龐大的文本時，計算成本會太過昂貴，且當有新詞彙加入時，計數手法必須從頭開始計算生成字詞的稠密矩陣。\n",
    "而word2vec 是使用類神經網路，以小批次(mini-batch)進行學習生成詞向量的模型。 由於 word2vec 是一次使用部分資料進行小批次的學習，因此當文本的詞彙量很龐大時，也可以將資料分割成多個 batch 來學習，而且因為 word2vec 本質上就是類神經網路，便可以使用 GPU 來進行平性運算加速學習。"
   ]
  }
 ],
 "metadata": {
  "kernelspec": {
   "display_name": "Python 3",
   "language": "python",
   "name": "python3"
  },
  "language_info": {
   "codemirror_mode": {
    "name": "ipython",
    "version": 3
   },
   "file_extension": ".py",
   "mimetype": "text/x-python",
   "name": "python",
   "nbconvert_exporter": "python",
   "pygments_lexer": "ipython3",
   "version": "3.6.5"
  }
 },
 "nbformat": 4,
 "nbformat_minor": 2
}
