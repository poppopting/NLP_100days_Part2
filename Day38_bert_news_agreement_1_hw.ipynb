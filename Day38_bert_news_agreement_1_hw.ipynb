{
 "cells": [
  {
   "cell_type": "markdown",
   "metadata": {
    "id": "L1GbY0omqE8c"
   },
   "source": [
    "# 專題（二）：建置 Bert 新聞觀點分類器之資料集\n",
    "\n",
    "## 專案目標\n",
    "- 目標：請試著建製 BertForSequenceClassification 看得懂的兩個句子分類問題的資料集  NewsPairDataset\n",
    "- 資料集 in archive.zip：\n",
    "    - 包含：train.csv、test.csv、solution.csv\n",
    "    - 資料來源：https://www.kaggle.com/wsdmcup/wsdm-fake-news-classification\n",
    "    - 資料中包含兩個新聞標題 title1_zh 和 title2_zh，並且給予這兩篇新聞的相關性，分別可能是：agreed, unrelated, disagreed\n",
    "\n",
    "## 實作提示\n",
    "- STEP1：解壓縮 archive.zip，並且讀取 train.csv 和 test.csv 檔案\n",
    "- STEP2：繼承 torch.utils.data.Dataset 並實作 NewsPairDataset，其中需要用到 bert tokenizer (請參考官方對BertForSequenceClassification的說明)，特別注意兩個句子間必須要有分隔符號 SEP\n",
    "- STEP3：因為每一個從 NewsPairDataset 來的樣本長度都不一樣，所以需要實作 collate_fn，來zero padding 到同一序列長度\n",
    "- STEP4：使用 torch.utils.data.DataLoader 來創造 train_loader 和 valid_loader\n",
    "\n",
    "## 重要知識點：專題結束後你可以學會\n",
    "- 如何讀取並處理 NLP 資料，產生可以適用 BertForSequenceClassification 兩個句子分類問題的資料集\n",
    "- 了解 BERT 的 2-Sequence Classification 任務如何進行"
   ]
  },
  {
   "cell_type": "code",
   "execution_count": 1,
   "metadata": {
    "colab": {
     "base_uri": "https://localhost:8080/",
     "height": 85
    },
    "id": "Q3YY65ATT66m",
    "outputId": "2a2a1dc3-bbe6-41a7-870f-0b640fbbd9e6"
   },
   "outputs": [],
   "source": [
    "# from: https://www.kaggle.com/wsdmcup/wsdm-fake-news-classification\n",
    "# !unzip archive.zip"
   ]
  },
  {
   "cell_type": "code",
   "execution_count": 2,
   "metadata": {
    "colab": {
     "base_uri": "https://localhost:8080/",
     "height": 34
    },
    "id": "2GDmjOyYMklS",
    "outputId": "cfc75fc4-7101-4568-f6c0-f9f3eb65a25c"
   },
   "outputs": [
    {
     "name": "stderr",
     "output_type": "stream",
     "text": [
      "Python 3.6.5 :: Anaconda, Inc.\n"
     ]
    }
   ],
   "source": [
    "!python --version"
   ]
  },
  {
   "cell_type": "code",
   "execution_count": 3,
   "metadata": {
    "id": "1JkVfTP5Qn-1"
   },
   "outputs": [],
   "source": [
    "# !pip install -q transformers"
   ]
  },
  {
   "cell_type": "code",
   "execution_count": 4,
   "metadata": {
    "id": "WKW9s5YtMvop"
   },
   "outputs": [],
   "source": [
    "import os\n",
    "import pandas as pd\n",
    "import numpy as np\n",
    "\n",
    "import torch\n",
    "import torch.optim as optim\n",
    "from torch.utils.data import Dataset, DataLoader\n",
    "from torch.nn.utils.rnn import pad_sequence\n",
    "from torch.utils.data import random_split\n",
    "from tqdm.notebook import tqdm\n",
    "\n",
    "from transformers import BertTokenizer, BertForSequenceClassification"
   ]
  },
  {
   "cell_type": "code",
   "execution_count": 5,
   "metadata": {
    "id": "i8OlmfVQM7UW"
   },
   "outputs": [],
   "source": [
    "os.chdir('archive')\n",
    "df_train = pd.read_csv('train.csv')\n",
    "df_test = pd.read_csv('test.csv')"
   ]
  },
  {
   "cell_type": "code",
   "execution_count": 6,
   "metadata": {
    "id": "nA7JG6AjVfy9"
   },
   "outputs": [],
   "source": [
    "df_train = df_train[['title1_zh', 'title2_zh', 'label']].dropna(axis=0).reset_index(drop=True)\n",
    "df_test = df_test[['id', 'title1_zh', 'title2_zh']].dropna(axis=0).reset_index(drop=True)"
   ]
  },
  {
   "cell_type": "code",
   "execution_count": 7,
   "metadata": {
    "id": "QM8vITkwNMJP"
   },
   "outputs": [],
   "source": [
    "ALL_LABELS = ['agreed', 'unrelated', 'disagreed']"
   ]
  },
  {
   "cell_type": "code",
   "execution_count": 8,
   "metadata": {
    "id": "ACnCRl2xNV3r"
   },
   "outputs": [],
   "source": [
    "MODEL_NAME = 'bert-base-chinese'"
   ]
  },
  {
   "cell_type": "code",
   "execution_count": 9,
   "metadata": {},
   "outputs": [
    {
     "data": {
      "text/html": [
       "<div>\n",
       "<style scoped>\n",
       "    .dataframe tbody tr th:only-of-type {\n",
       "        vertical-align: middle;\n",
       "    }\n",
       "\n",
       "    .dataframe tbody tr th {\n",
       "        vertical-align: top;\n",
       "    }\n",
       "\n",
       "    .dataframe thead th {\n",
       "        text-align: right;\n",
       "    }\n",
       "</style>\n",
       "<table border=\"1\" class=\"dataframe\">\n",
       "  <thead>\n",
       "    <tr style=\"text-align: right;\">\n",
       "      <th></th>\n",
       "      <th>title1_zh</th>\n",
       "      <th>title2_zh</th>\n",
       "      <th>label</th>\n",
       "    </tr>\n",
       "  </thead>\n",
       "  <tbody>\n",
       "    <tr>\n",
       "      <td>0</td>\n",
       "      <td>2017养老保险又新增两项，农村老人人人可申领，你领到了吗</td>\n",
       "      <td>警方辟谣“鸟巢大会每人领5万” 仍有老人坚持进京</td>\n",
       "      <td>unrelated</td>\n",
       "    </tr>\n",
       "    <tr>\n",
       "      <td>1</td>\n",
       "      <td>\"你不来深圳，早晚你儿子也要来\"，不出10年深圳人均GDP将超香港</td>\n",
       "      <td>深圳GDP首超香港？深圳统计局辟谣：只是差距在缩小</td>\n",
       "      <td>unrelated</td>\n",
       "    </tr>\n",
       "    <tr>\n",
       "      <td>2</td>\n",
       "      <td>\"你不来深圳，早晚你儿子也要来\"，不出10年深圳人均GDP将超香港</td>\n",
       "      <td>GDP首超香港？深圳澄清：还差一点点……</td>\n",
       "      <td>unrelated</td>\n",
       "    </tr>\n",
       "    <tr>\n",
       "      <td>3</td>\n",
       "      <td>\"你不来深圳，早晚你儿子也要来\"，不出10年深圳人均GDP将超香港</td>\n",
       "      <td>去年深圳GDP首超香港？深圳统计局辟谣：还差611亿</td>\n",
       "      <td>unrelated</td>\n",
       "    </tr>\n",
       "    <tr>\n",
       "      <td>4</td>\n",
       "      <td>\"用大蒜鉴别地沟油的方法,怎么鉴别地沟油</td>\n",
       "      <td>吃了30年食用油才知道，一片大蒜轻松鉴别地沟油</td>\n",
       "      <td>agreed</td>\n",
       "    </tr>\n",
       "  </tbody>\n",
       "</table>\n",
       "</div>"
      ],
      "text/plain": [
       "                           title1_zh                   title2_zh      label\n",
       "0      2017养老保险又新增两项，农村老人人人可申领，你领到了吗    警方辟谣“鸟巢大会每人领5万” 仍有老人坚持进京  unrelated\n",
       "1  \"你不来深圳，早晚你儿子也要来\"，不出10年深圳人均GDP将超香港   深圳GDP首超香港？深圳统计局辟谣：只是差距在缩小  unrelated\n",
       "2  \"你不来深圳，早晚你儿子也要来\"，不出10年深圳人均GDP将超香港        GDP首超香港？深圳澄清：还差一点点……  unrelated\n",
       "3  \"你不来深圳，早晚你儿子也要来\"，不出10年深圳人均GDP将超香港  去年深圳GDP首超香港？深圳统计局辟谣：还差611亿  unrelated\n",
       "4               \"用大蒜鉴别地沟油的方法,怎么鉴别地沟油     吃了30年食用油才知道，一片大蒜轻松鉴别地沟油     agreed"
      ]
     },
     "execution_count": 9,
     "metadata": {},
     "output_type": "execute_result"
    }
   ],
   "source": [
    "df_train.head()"
   ]
  },
  {
   "cell_type": "code",
   "execution_count": 10,
   "metadata": {
    "id": "rK1yhgITcL3Q"
   },
   "outputs": [],
   "source": [
    "# 建置數據集\n",
    "class NewsPairDataset(Dataset):\n",
    "    def __init__(self, tokenizer, df, max_len=512):\n",
    "        self.tokenizer = tokenizer\n",
    "        self.df = df\n",
    "        self.max_len = max_len\n",
    "\n",
    "    def __getitem__(self, idx):\n",
    "        text1 = self.df.loc[idx, 'title1_zh']\n",
    "        text2 = self.df.loc[idx, 'title2_zh']\n",
    "        label = self.df.loc[idx, 'label'] if 'label' in self.df.columns else None\n",
    "\n",
    "        tokens1 = self.tokenizer.tokenize(text1)\n",
    "        tokens2 = self.tokenizer.tokenize(text2)\n",
    "        \n",
    "        all_tokens_len = len(tokens1) + len(tokens2) + 2  # [CLS] [SEP]\n",
    "        if all_tokens_len > self.max_len:\n",
    "            bound = (self.max_len - 2) // 2\n",
    "            tokens1 = tokens1[:bound]\n",
    "            tokens2 = tokens2[:bound]\n",
    "       \n",
    "        input = {}\n",
    "        \n",
    "        sentence = ['[CLS]'] + tokens1 + ['[SEP]'] + tokens2\n",
    "        input['input_ids'] = torch.tensor(self.tokenizer.convert_tokens_to_ids(sentence))\n",
    "\n",
    "        sep_idx = sentence.index('[SEP]')\n",
    "        input['token_type_ids'] = torch.tensor(\n",
    "            [0] * (sep_idx + 1) + [1] * (len(sentence) - sep_idx - 1),\n",
    "            dtype=torch.long\n",
    "        )\n",
    "\n",
    "        input['attention_mask'] = torch.tensor(\n",
    "            [1] * len(sentence),\n",
    "            dtype=torch.long\n",
    "        )\n",
    "\n",
    "\n",
    "        if label:\n",
    "            label = torch.tensor(ALL_LABELS.index(label))\n",
    "\n",
    "        return input, label\n",
    "\n",
    "    def __len__(self):\n",
    "        return len(self.df)\n",
    "\n",
    "\n",
    "def create_mini_batch(samples):\n",
    "    input_ids = []\n",
    "    token_type_ids = []\n",
    "    attention_mask = []\n",
    "    labels = []\n",
    "    for s in samples:\n",
    "        input_ids.append(s[0]['input_ids'].squeeze(0))\n",
    "        token_type_ids.append(s[0]['token_type_ids'].squeeze(0))\n",
    "        attention_mask.append(s[0]['attention_mask'].squeeze(0))\n",
    "        if s[1]:\n",
    "            labels.append(s[1])\n",
    "\n",
    "    # zero pad 到同一序列長度\n",
    "    input_ids = pad_sequence(input_ids, batch_first=True)\n",
    "    token_type_ids = pad_sequence(token_type_ids, batch_first=True)\n",
    "    attention_mask = pad_sequence(attention_mask, batch_first=True)\n",
    " \n",
    "    if labels:\n",
    "        labels = torch.stack(labels)\n",
    "        return input_ids, token_type_ids, attention_mask, labels\n",
    "    else:\n",
    "        return input_ids, token_type_ids, attention_mask"
   ]
  },
  {
   "cell_type": "code",
   "execution_count": 11,
   "metadata": {
    "id": "4cmG8VcfeiNN"
   },
   "outputs": [],
   "source": [
    "train_batch_size = 32\n",
    "eval_batch_size = 512\n",
    "\n",
    "tokenizer = BertTokenizer.from_pretrained(MODEL_NAME)\n",
    "\n",
    "dataset = NewsPairDataset(tokenizer, df_train)\n",
    "\n",
    "train_size = int(0.8 * len(dataset))\n",
    "valid_size = len(dataset) - train_size\n",
    "train_dataset, valid_dataset = random_split(dataset, [train_size, valid_size])\n",
    "\n",
    "train_loader = DataLoader(\n",
    "    dataset=train_dataset,\n",
    "    batch_size=train_batch_size,\n",
    "    collate_fn=create_mini_batch,\n",
    "    shuffle=True)\n",
    "valid_loader = DataLoader(\n",
    "    dataset=valid_dataset,\n",
    "    batch_size=eval_batch_size,\n",
    "    collate_fn=create_mini_batch)"
   ]
  },
  {
   "cell_type": "code",
   "execution_count": 12,
   "metadata": {},
   "outputs": [
    {
     "data": {
      "text/plain": [
       "(tensor([[ 101, 2669, 2336,  ...,    0,    0,    0],\n",
       "         [ 101, 1062, 1062,  ...,    0,    0,    0],\n",
       "         [ 101,  671,  702,  ...,    0,    0,    0],\n",
       "         ...,\n",
       "         [ 101, 1920, 1117,  ...,    0,    0,    0],\n",
       "         [ 101, 2476, 3377,  ...,    0,    0,    0],\n",
       "         [ 101, 3580, 2094,  ...,    0,    0,    0]]),\n",
       " tensor([[0, 0, 0,  ..., 0, 0, 0],\n",
       "         [0, 0, 0,  ..., 0, 0, 0],\n",
       "         [0, 0, 0,  ..., 0, 0, 0],\n",
       "         ...,\n",
       "         [0, 0, 0,  ..., 0, 0, 0],\n",
       "         [0, 0, 0,  ..., 0, 0, 0],\n",
       "         [0, 0, 0,  ..., 0, 0, 0]]),\n",
       " tensor([[1, 1, 1,  ..., 0, 0, 0],\n",
       "         [1, 1, 1,  ..., 0, 0, 0],\n",
       "         [1, 1, 1,  ..., 0, 0, 0],\n",
       "         ...,\n",
       "         [1, 1, 1,  ..., 0, 0, 0],\n",
       "         [1, 1, 1,  ..., 0, 0, 0],\n",
       "         [1, 1, 1,  ..., 0, 0, 0]]),\n",
       " tensor([1, 1, 1, 1, 1, 1, 1, 1, 1, 1, 1, 1, 1, 1, 1, 1, 1, 1, 1, 1, 1, 1, 1, 1,\n",
       "         1, 1, 1]))"
      ]
     },
     "execution_count": 12,
     "metadata": {},
     "output_type": "execute_result"
    }
   ],
   "source": [
    "next(iter(train_loader))"
   ]
  }
 ],
 "metadata": {
  "accelerator": "GPU",
  "colab": {
   "collapsed_sections": [],
   "name": "bert_news_agreement_1_hw.ipynb",
   "provenance": []
  },
  "kernelspec": {
   "display_name": "Python 3",
   "language": "python",
   "name": "python3"
  },
  "language_info": {
   "codemirror_mode": {
    "name": "ipython",
    "version": 3
   },
   "file_extension": ".py",
   "mimetype": "text/x-python",
   "name": "python",
   "nbconvert_exporter": "python",
   "pygments_lexer": "ipython3",
   "version": "3.6.5"
  }
 },
 "nbformat": 4,
 "nbformat_minor": 1
}
