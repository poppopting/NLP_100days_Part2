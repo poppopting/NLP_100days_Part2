{
 "cells": [
  {
   "cell_type": "code",
   "execution_count": 1,
   "metadata": {},
   "outputs": [],
   "source": [
    "import torch\n",
    "import torch.nn as nn\n",
    "import torchvision.models as models\n",
    "import torch.nn.functional as F\n",
    "import numpy as np\n",
    "import torch.optim as optim\n"
   ]
  },
  {
   "cell_type": "markdown",
   "metadata": {},
   "source": [
    "### 搭建模型"
   ]
  },
  {
   "cell_type": "code",
   "execution_count": 2,
   "metadata": {},
   "outputs": [],
   "source": [
    "class LinearBNAC(nn.Module):\n",
    "    def __init__(self, in_channels, out_channels, bias=True, dropout=0.3, is_output=False):\n",
    "        super(LinearBNAC, self).__init__()\n",
    "        if is_output and out_channels==1:\n",
    "            self.linear = nn.Sequential(\n",
    "                nn.Linear(in_channels, out_channels, bias=bias),\n",
    "                nn.Sigmoid()\n",
    "            )\n",
    "        elif is_output:\n",
    "            self.linear = nn.Sequential(\n",
    "                nn.Linear(in_channels, out_channels, bias=bias),\n",
    "                nn.Softmax(dim=1)\n",
    "            )   \n",
    "        else:\n",
    "            self.linear = nn.Sequential(\n",
    "                nn.Linear(in_channels, out_channels, bias=bias),\n",
    "                nn.Dropout(dropout),\n",
    "                nn.BatchNorm1d(out_channels),\n",
    "                nn.LeakyReLU(inplace=True)\n",
    "            )\n",
    "            \n",
    "    def forward(self, x):\n",
    "        out=self.linear(x)\n",
    "        return out"
   ]
  },
  {
   "cell_type": "code",
   "execution_count": 3,
   "metadata": {},
   "outputs": [],
   "source": [
    "class Model(nn.Module):\n",
    "    def __init__(self, input_dimention, output_classes=1):\n",
    "        super(Model, self).__init__()\n",
    "        self.layer1 = LinearBNAC(input_dimention, 128)\n",
    "        self.layer2 = LinearBNAC(128, 64)\n",
    "        self.layer3 = LinearBNAC(64, 32)\n",
    "        self.output = LinearBNAC(32, output_classes, is_output=True)\n",
    "    def forward(self, x):\n",
    "        x = self.layer1(x)\n",
    "        x = self.layer2(x)\n",
    "        x = self.layer3(x)\n",
    "        x = self.output(x)\n",
    "        return x \n",
    "        "
   ]
  },
  {
   "cell_type": "markdown",
   "metadata": {},
   "source": [
    "### 準備輸入資料、優化器、標籤資料、模型輸出"
   ]
  },
  {
   "cell_type": "code",
   "execution_count": 4,
   "metadata": {},
   "outputs": [],
   "source": [
    "model = Model(input_dimention=256,output_classes=10)\n",
    "optimizer = optim.Adam(model.parameters(), lr=1e-3, weight_decay=1e-3)"
   ]
  },
  {
   "cell_type": "code",
   "execution_count": 5,
   "metadata": {},
   "outputs": [],
   "source": [
    "batch_size = 4\n",
    "input_features = 256\n",
    "dummy_input = torch.randn(batch_size, input_features,)\n",
    "\n",
    "#target = torch.empty(4, dtype=torch.float).random_(10)\n",
    "target = torch.tensor([9., 5., 4., 4.], dtype=torch.long)"
   ]
  },
  {
   "cell_type": "code",
   "execution_count": 6,
   "metadata": {},
   "outputs": [
    {
     "name": "stdout",
     "output_type": "stream",
     "text": [
      "tensor([[0.0684, 0.0692, 0.0421, 0.1275, 0.1270, 0.1144, 0.1502, 0.1093, 0.1069,\n",
      "         0.0851],\n",
      "        [0.0740, 0.1587, 0.0810, 0.1824, 0.1409, 0.0575, 0.0715, 0.0808, 0.0750,\n",
      "         0.0782],\n",
      "        [0.0771, 0.1076, 0.1086, 0.0965, 0.1152, 0.0728, 0.1267, 0.1309, 0.1032,\n",
      "         0.0614],\n",
      "        [0.0404, 0.1208, 0.0637, 0.2030, 0.1421, 0.0491, 0.1128, 0.0637, 0.0842,\n",
      "         0.1201]], grad_fn=<SoftmaxBackward>)\n"
     ]
    }
   ],
   "source": [
    "output = model(dummy_input)\n",
    "print(output)"
   ]
  },
  {
   "cell_type": "markdown",
   "metadata": {},
   "source": [
    "### 計算 CrossEntropy Loss\n",
    "* 請注意哪一個 Loss最適合：我們已經使用 softmax\n",
    "* 因為我們有使用dropout，並隨機產生dummy_input，所以各為學員得到的值會與解答不同，然而步驟原理需要相同"
   ]
  },
  {
   "cell_type": "code",
   "execution_count": 7,
   "metadata": {},
   "outputs": [],
   "source": [
    "from torch.nn import NLLLoss, LogSoftmax, CrossEntropyLoss"
   ]
  },
  {
   "cell_type": "code",
   "execution_count": 8,
   "metadata": {},
   "outputs": [],
   "source": [
    "criterion = NLLLoss()"
   ]
  },
  {
   "cell_type": "code",
   "execution_count": 9,
   "metadata": {},
   "outputs": [],
   "source": [
    "loss = criterion(torch.log(output), target)"
   ]
  },
  {
   "cell_type": "markdown",
   "metadata": {},
   "source": [
    "### 完成back propagation並更新梯度"
   ]
  },
  {
   "cell_type": "code",
   "execution_count": 10,
   "metadata": {},
   "outputs": [],
   "source": [
    "loss.backward()"
   ]
  },
  {
   "cell_type": "code",
   "execution_count": 11,
   "metadata": {},
   "outputs": [
    {
     "name": "stdout",
     "output_type": "stream",
     "text": [
      "weight : Parameter containing:\n",
      "tensor([[-0.0186, -0.0317, -0.0110,  ...,  0.0321,  0.0376,  0.0556],\n",
      "        [ 0.0377,  0.0591, -0.0092,  ...,  0.0314,  0.0490,  0.0602],\n",
      "        [ 0.0308, -0.0483,  0.0568,  ...,  0.0172, -0.0413, -0.0282],\n",
      "        ...,\n",
      "        [-0.0177,  0.0574, -0.0507,  ..., -0.0086,  0.0217, -0.0523],\n",
      "        [ 0.0422, -0.0348, -0.0106,  ...,  0.0503, -0.0608, -0.0188],\n",
      "        [ 0.0343,  0.0323,  0.0486,  ..., -0.0514, -0.0354, -0.0426]],\n",
      "       requires_grad=True)\n",
      "\n",
      "\n",
      "grad : tensor([[-5.1005e-03,  9.8831e-03,  2.0402e-02,  ..., -1.1333e-02,\n",
      "          2.2453e-04,  6.1929e-03],\n",
      "        [-3.5395e-01,  2.4335e-01,  4.6013e-01,  ..., -4.2728e-01,\n",
      "          5.5890e-02,  2.1694e-01],\n",
      "        [ 3.3120e-01, -8.4755e-01, -3.4841e-01,  ...,  8.0200e-01,\n",
      "         -5.5948e-02, -5.6349e-01],\n",
      "        ...,\n",
      "        [ 4.4244e-03, -1.0215e-02, -2.1614e-02,  ...,  1.1503e-02,\n",
      "          5.9425e-05, -6.1114e-03],\n",
      "        [-3.3238e-01,  8.0976e-01,  2.1182e+00,  ..., -1.6523e+00,\n",
      "         -2.3117e-01,  3.8372e-01],\n",
      "        [ 4.8628e-04, -8.9291e-03,  2.5338e-02,  ..., -3.3238e-02,\n",
      "         -1.1860e-02, -1.0441e-02]])\n"
     ]
    }
   ],
   "source": [
    "print('weight : {}'.format(model.layer1.linear[0].weight))\n",
    "print('\\n')\n",
    "print('grad : {}'.format(model.layer1.linear[0].weight.grad))"
   ]
  },
  {
   "cell_type": "code",
   "execution_count": 12,
   "metadata": {},
   "outputs": [],
   "source": [
    "optimizer.step()"
   ]
  },
  {
   "cell_type": "code",
   "execution_count": 13,
   "metadata": {},
   "outputs": [
    {
     "name": "stdout",
     "output_type": "stream",
     "text": [
      "weight : Parameter containing:\n",
      "tensor([[-0.0176, -0.0327, -0.0120,  ...,  0.0331,  0.0366,  0.0546],\n",
      "        [ 0.0387,  0.0581, -0.0102,  ...,  0.0324,  0.0480,  0.0592],\n",
      "        [ 0.0298, -0.0473,  0.0578,  ...,  0.0162, -0.0403, -0.0272],\n",
      "        ...,\n",
      "        [-0.0187,  0.0584, -0.0497,  ..., -0.0096,  0.0207, -0.0513],\n",
      "        [ 0.0432, -0.0358, -0.0116,  ...,  0.0513, -0.0598, -0.0198],\n",
      "        [ 0.0333,  0.0333,  0.0476,  ..., -0.0504, -0.0344, -0.0416]],\n",
      "       requires_grad=True)\n",
      "\n",
      "\n",
      "grad : tensor([[-5.1005e-03,  9.8831e-03,  2.0402e-02,  ..., -1.1333e-02,\n",
      "          2.2453e-04,  6.1929e-03],\n",
      "        [-3.5395e-01,  2.4335e-01,  4.6013e-01,  ..., -4.2728e-01,\n",
      "          5.5890e-02,  2.1694e-01],\n",
      "        [ 3.3120e-01, -8.4755e-01, -3.4841e-01,  ...,  8.0200e-01,\n",
      "         -5.5948e-02, -5.6349e-01],\n",
      "        ...,\n",
      "        [ 4.4244e-03, -1.0215e-02, -2.1614e-02,  ...,  1.1503e-02,\n",
      "          5.9425e-05, -6.1114e-03],\n",
      "        [-3.3238e-01,  8.0976e-01,  2.1182e+00,  ..., -1.6523e+00,\n",
      "         -2.3117e-01,  3.8372e-01],\n",
      "        [ 4.8628e-04, -8.9291e-03,  2.5338e-02,  ..., -3.3238e-02,\n",
      "         -1.1860e-02, -1.0441e-02]])\n"
     ]
    }
   ],
   "source": [
    "print('weight : {}'.format(model.layer1.linear[0].weight))\n",
    "print('\\n')\n",
    "print('grad : {}'.format(model.layer1.linear[0].weight.grad))"
   ]
  },
  {
   "cell_type": "markdown",
   "metadata": {},
   "source": [
    "### 清空 gradient"
   ]
  },
  {
   "cell_type": "code",
   "execution_count": 14,
   "metadata": {},
   "outputs": [],
   "source": [
    "optimizer.zero_grad()"
   ]
  },
  {
   "cell_type": "code",
   "execution_count": 15,
   "metadata": {},
   "outputs": [
    {
     "name": "stdout",
     "output_type": "stream",
     "text": [
      "weight : Parameter containing:\n",
      "tensor([[-0.0176, -0.0327, -0.0120,  ...,  0.0331,  0.0366,  0.0546],\n",
      "        [ 0.0387,  0.0581, -0.0102,  ...,  0.0324,  0.0480,  0.0592],\n",
      "        [ 0.0298, -0.0473,  0.0578,  ...,  0.0162, -0.0403, -0.0272],\n",
      "        ...,\n",
      "        [-0.0187,  0.0584, -0.0497,  ..., -0.0096,  0.0207, -0.0513],\n",
      "        [ 0.0432, -0.0358, -0.0116,  ...,  0.0513, -0.0598, -0.0198],\n",
      "        [ 0.0333,  0.0333,  0.0476,  ..., -0.0504, -0.0344, -0.0416]],\n",
      "       requires_grad=True)\n",
      "\n",
      "\n",
      "grad : tensor([[0., 0., 0.,  ..., 0., 0., 0.],\n",
      "        [0., 0., 0.,  ..., 0., 0., 0.],\n",
      "        [0., 0., 0.,  ..., 0., 0., 0.],\n",
      "        ...,\n",
      "        [0., 0., 0.,  ..., 0., 0., 0.],\n",
      "        [0., 0., 0.,  ..., 0., 0., 0.],\n",
      "        [0., 0., 0.,  ..., 0., 0., 0.]])\n"
     ]
    }
   ],
   "source": [
    "print('weight : {}'.format(model.layer1.linear[0].weight))\n",
    "print('\\n')\n",
    "print('grad : {}'.format(model.layer1.linear[0].weight.grad))"
   ]
  }
 ],
 "metadata": {
  "kernelspec": {
   "display_name": "Python 3",
   "language": "python",
   "name": "python3"
  },
  "language_info": {
   "codemirror_mode": {
    "name": "ipython",
    "version": 3
   },
   "file_extension": ".py",
   "mimetype": "text/x-python",
   "name": "python",
   "nbconvert_exporter": "python",
   "pygments_lexer": "ipython3",
   "version": "3.6.5"
  }
 },
 "nbformat": 4,
 "nbformat_minor": 2
}
