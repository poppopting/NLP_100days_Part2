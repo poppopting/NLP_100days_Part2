{
 "cells": [
  {
   "cell_type": "markdown",
   "metadata": {},
   "source": [
    "# 作業 : [開放題] NLP 模型的發展極限"
   ]
  },
  {
   "cell_type": "markdown",
   "metadata": {},
   "source": [
    "```\n",
    "- 問題 : 你覺得 NLP 預訓練模型還有優化的空間嗎? 為什麼?\n",
    "  答: 1. NSP 可以再多思考如何設計\n",
    "      2. 給定兩個句子，預測資訊量是否一致(ex: sentence1: 我和小明比賽，我得第二; sentence2: 小明和我比賽，他拿第一)\n",
    "\n",
    "```"
   ]
  }
 ],
 "metadata": {
  "kernelspec": {
   "display_name": "Python 3",
   "language": "python",
   "name": "python3"
  },
  "language_info": {
   "codemirror_mode": {
    "name": "ipython",
    "version": 3
   },
   "file_extension": ".py",
   "mimetype": "text/x-python",
   "name": "python",
   "nbconvert_exporter": "python",
   "pygments_lexer": "ipython3",
   "version": "3.6.5"
  }
 },
 "nbformat": 4,
 "nbformat_minor": 2
}
