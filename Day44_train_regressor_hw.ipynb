{
 "cells": [
  {
   "cell_type": "markdown",
   "metadata": {},
   "source": [
    "### <strong>主題:\n",
    "啤酒評論評分預測 - 回歸模型建構\n",
    "### <strong>說明:\n",
    "完成了先前的課程之後，我們了解到有些問題其實是比較適合回歸模型的，比方說評分預測的問題 <br />\n",
    "，因此我們這次以回歸模型，重新評估其各項屬性(apperance, aroma, overall, palate, taste)得分<br />\n",
    "。另外，啤酒問題為多標籤問題(multi-label regression)，也必須特別注意。\n",
    "### <strong>題目\n",
    "1. 參照前次分類模型的結構，將分類模型修改為回歸模型<br />\n",
    "(完成底下的BeerDataset與create_data_loader)\n",
    "2. 修改完後，進行模型訓練，確認所修改的架構不會產生錯誤。\n",
    "\n",
    "#### <strong>提示1: 若同學因GPU限制無法快速訓練，可以考慮調低訓練回合數，MAX_LEN，或選擇較小的bert模型。"
   ]
  },
  {
   "cell_type": "code",
   "execution_count": 1,
   "metadata": {},
   "outputs": [],
   "source": [
    "import torch\n",
    "import transformers\n",
    "import numpy as np\n",
    "import pandas as pd\n",
    "from tqdm.auto import tqdm\n",
    "from torch.utils.data import Dataset, DataLoader\n",
    "from torch import nn, optim\n",
    "from transformers import DistilBertModel, DistilBertTokenizer\n",
    "from transformers import AdamW, get_linear_schedule_with_warmup"
   ]
  },
  {
   "cell_type": "code",
   "execution_count": 2,
   "metadata": {},
   "outputs": [],
   "source": [
    "PRE_TRAINED_MODEL_NAME = \"distilbert-base-cased\"\n",
    "BATCH_SIZE = 8\n",
    "MAX_LEN = 128\n",
    "EPOCHS = 10\n",
    "\n",
    "DEVICE = torch.device(\"cuda:0\" if torch.cuda.is_available() else \"cpu\")\n",
    "TOKENIZER = DistilBertTokenizer.from_pretrained(PRE_TRAINED_MODEL_NAME)"
   ]
  },
  {
   "cell_type": "code",
   "execution_count": 3,
   "metadata": {},
   "outputs": [],
   "source": [
    "class BeerDataset(Dataset):\n",
    "    \"\"\"\n",
    "    將資料集轉換為後續data DataLoader 需求的 pytorch Dataset形式\n",
    "    Convert beer review dataframe into torch dataset instance\n",
    "    \"\"\"\n",
    "    def __init__(self,\n",
    "                 comments,\n",
    "                 apperance_target,\n",
    "                 aroma_target,\n",
    "                 overall_target,\n",
    "                 palate_target,\n",
    "                 taste_target, max_len):\n",
    "        self.comments = comments\n",
    "        self.apperance_target = apperance_target\n",
    "        self.aroma_target = aroma_target\n",
    "        self.overall_target = overall_target\n",
    "        self.palate_target = palate_target\n",
    "        self.taste_target = taste_target\n",
    "        self.max_len = max_len\n",
    "\n",
    "    def __len__(self):\n",
    "        return len(self.comments)\n",
    "\n",
    "    def __getitem__(self, item):\n",
    "        comment = str(self.comments[item])\n",
    "        apperance_target = self.apperance_target[item]\n",
    "        aroma_target = self.aroma_target[item]\n",
    "        overall_target = self.overall_target[item]\n",
    "        palate_target = self.palate_target[item]\n",
    "        taste_target = self.taste_target[item]\n",
    "        encoding = TOKENIZER.encode_plus(\n",
    "            comment,\n",
    "            truncation=True,\n",
    "            add_special_tokens=True,\n",
    "            max_length=self.max_len,\n",
    "            return_token_type_ids=False,\n",
    "            padding='max_length',\n",
    "            return_attention_mask=True,\n",
    "            return_tensors='pt',\n",
    "        )\n",
    "        return {\n",
    "            'comment': comment,\n",
    "            'input_ids': encoding['input_ids'].flatten(),\n",
    "            'attention_mask': encoding['attention_mask'].flatten(),\n",
    "            'apperance_target': torch.tensor(apperance_target, dtype=torch.float),\n",
    "            'aroma_target': torch.tensor(aroma_target, dtype=torch.float),\n",
    "            'overall_target': torch.tensor(overall_target, dtype=torch.float),\n",
    "            'palate_target': torch.tensor(palate_target, dtype=torch.float),\n",
    "            'taste_target': torch.tensor(taste_target, dtype=torch.float)\n",
    "        }"
   ]
  },
  {
   "cell_type": "code",
   "execution_count": 4,
   "metadata": {},
   "outputs": [],
   "source": [
    "def create_data_loader(dataframe, max_len, batch_size):\n",
    "    \"\"\"\n",
    "    將pytorch Dataset形式資料集包裝為data DataLoader\n",
    "    convert dataset to pytorch dataloader format object\n",
    "    \"\"\"\n",
    "    dataset = BeerDataset(\n",
    "        comments=dataframe[\"review/text\"].values,\n",
    "        apperance_target=dataframe[\"review/appearance\"].values,\n",
    "        aroma_target=dataframe[\"review/aroma\"].values,\n",
    "        overall_target=dataframe[\"review/overall\"].values,\n",
    "        palate_target=dataframe[\"review/palate\"].values,\n",
    "        taste_target=dataframe[\"review/taste\"].values,\n",
    "        max_len=max_len\n",
    "    )\n",
    "    return DataLoader(\n",
    "        dataset,\n",
    "        batch_size=batch_size\n",
    "    )\n"
   ]
  },
  {
   "cell_type": "code",
   "execution_count": 5,
   "metadata": {},
   "outputs": [],
   "source": [
    "class BeerRateRegressor(nn.Module):\n",
    "    \"\"\"\n",
    "    啤酒評論評分回歸模型的主體\n",
    "    Beer sentiment main model for review sentiment analyzer\n",
    "    \"\"\"\n",
    "    def __init__(self):\n",
    "        super(BeerRateRegressor, self).__init__()\n",
    "        self.bert = DistilBertModel.from_pretrained(PRE_TRAINED_MODEL_NAME)\n",
    "        self.drop = nn.Dropout(p=0.2)\n",
    "        self.apperance_out = nn.Linear(self.bert.config.hidden_size, 1)\n",
    "        self.aroma_out = nn.Linear(self.bert.config.hidden_size, 1)\n",
    "        self.overall_out = nn.Linear(self.bert.config.hidden_size, 1)\n",
    "        self.palate_out = nn.Linear(self.bert.config.hidden_size, 1)\n",
    "        self.taste_out = nn.Linear(self.bert.config.hidden_size, 1)\n",
    "\n",
    "    def forward(self, input_ids, attention_mask):\n",
    "        (output,) = self.bert(\n",
    "            input_ids=input_ids,\n",
    "            attention_mask=attention_mask\n",
    "        )\n",
    "        pooled_output = output[:,-1,:].squeeze(dim=1)\n",
    "        \n",
    "        apperance_output = self.apperance_out(pooled_output)\n",
    "        aroma_output = self.aroma_out(pooled_output)\n",
    "        overall_output = self.overall_out(pooled_output)\n",
    "        palate_output = self.palate_out(pooled_output)\n",
    "        taste_output = self.taste_out(pooled_output)\n",
    "        return {\n",
    "            \"apperance\": apperance_output,\n",
    "            \"aroma\": aroma_output,\n",
    "            \"overall\": overall_output,\n",
    "            \"palate\": palate_output,\n",
    "            \"taste\": taste_output,\n",
    "        }"
   ]
  },
  {
   "cell_type": "code",
   "execution_count": 6,
   "metadata": {},
   "outputs": [],
   "source": [
    "def train_epoch(model,\n",
    "                data_loader,\n",
    "                loss_fn,\n",
    "                optimizer,\n",
    "                scheduler,\n",
    "                n_examples):\n",
    "    \"\"\"\n",
    "    電影評論分類器的訓練主流程\n",
    "    Main training process of bert sentiment classifier\n",
    "    \"\"\"\n",
    "    model = model.train()\n",
    "    losses = []\n",
    "    for _d in tqdm(data_loader):\n",
    "        input_ids = _d[\"input_ids\"].to(DEVICE)\n",
    "        attention_mask = _d[\"attention_mask\"].to(DEVICE)\n",
    "        apperance_target = _d[\"apperance_target\"].to(DEVICE)\n",
    "        aroma_target = _d[\"aroma_target\"].to(DEVICE)\n",
    "        overall_target = _d[\"overall_target\"].to(DEVICE)\n",
    "        palate_target = _d[\"palate_target\"].to(DEVICE)\n",
    "        taste_target = _d[\"taste_target\"].to(DEVICE)\n",
    "        outputs = model(\n",
    "            input_ids=input_ids,\n",
    "            attention_mask=attention_mask\n",
    "        )\n",
    "\n",
    "        apperance_loss = loss_fn(outputs[\"apperance\"], apperance_target)\n",
    "        aroma_loss = loss_fn(outputs[\"aroma\"], aroma_target)\n",
    "        overall_loss = loss_fn(outputs[\"overall\"], overall_target)\n",
    "        palate_loss = loss_fn(outputs[\"palate\"], palate_target)\n",
    "        taste_loss = loss_fn(outputs[\"taste\"], taste_target)\n",
    "   \n",
    "        loss = apperance_loss + aroma_loss + overall_loss + palate_loss + taste_loss\n",
    "        losses.append(loss.item())\n",
    "        loss.backward()\n",
    "        nn.utils.clip_grad_norm_(model.parameters(), max_norm=1.0)\n",
    "        optimizer.step()\n",
    "        scheduler.step()\n",
    "        optimizer.zero_grad()\n",
    "        torch.cuda.empty_cache()\n",
    "        \n",
    "    return np.mean(losses)\n",
    "\n",
    "def eval_model(model,\n",
    "               data_loader,\n",
    "               loss_fn,\n",
    "               n_examples):\n",
    "    \"\"\"\n",
    "    電影評論分類器的訓練時每個epoch評估訓練效能主流程\n",
    "    Main evaluate process in training of bert sentiment classifier\n",
    "    \"\"\"\n",
    "    model = model.eval()\n",
    "\n",
    "    losses = []\n",
    "    correct_predictions = 0\n",
    "\n",
    "    with torch.no_grad():\n",
    "        for d in tqdm(data_loader):\n",
    "            input_ids = d[\"input_ids\"].to(DEVICE)\n",
    "            attention_mask = d[\"attention_mask\"].to(DEVICE)\n",
    "            apperance_target = d[\"apperance_target\"].to(DEVICE)\n",
    "            aroma_target = d[\"aroma_target\"].to(DEVICE)\n",
    "            overall_target = d[\"overall_target\"].to(DEVICE)\n",
    "            palate_target = d[\"palate_target\"].to(DEVICE)\n",
    "            taste_target = d[\"taste_target\"].to(DEVICE)\n",
    "\n",
    "            outputs = model(\n",
    "                input_ids=input_ids,\n",
    "                attention_mask=attention_mask\n",
    "            )\n",
    "            apperance_loss = loss_fn(outputs[\"apperance\"], apperance_target)\n",
    "            aroma_loss = loss_fn(outputs[\"aroma\"], aroma_target)\n",
    "            overall_loss = loss_fn(outputs[\"overall\"], overall_target)\n",
    "            palate_loss = loss_fn(outputs[\"palate\"], palate_target)\n",
    "            taste_loss = loss_fn(outputs[\"taste\"], taste_target)\n",
    "\n",
    "            loss = apperance_loss + aroma_loss + overall_loss + palate_loss + taste_loss\n",
    "            losses.append(loss.item())\n",
    "\n",
    "    return np.mean(losses)"
   ]
  },
  {
   "cell_type": "code",
   "execution_count": 7,
   "metadata": {},
   "outputs": [],
   "source": [
    "import os"
   ]
  },
  {
   "cell_type": "code",
   "execution_count": 8,
   "metadata": {},
   "outputs": [],
   "source": [
    "os.chdir(r'C:\\Users\\Guan-Ting Chen\\Desktop\\Others\\NLP_100days_Part2')"
   ]
  },
  {
   "cell_type": "code",
   "execution_count": 9,
   "metadata": {},
   "outputs": [],
   "source": [
    "dropna_cols = ['review/appearance', 'review/aroma', 'review/overall', 'review/palate', 'review/taste', 'review/text']\n",
    "TRAIN = pd.read_json(\"train_set.json\")\n",
    "TRAIN = TRAIN.dropna(subset=dropna_cols).sample(frac=1).reset_index(drop=True)\n",
    "VAL = TRAIN[-500:].reset_index(drop=True)\n",
    "TRAIN = TRAIN[:-500].reset_index(drop=True)"
   ]
  },
  {
   "cell_type": "code",
   "execution_count": 10,
   "metadata": {},
   "outputs": [],
   "source": [
    "MODEL = BeerRateRegressor()\n",
    "MODEL.to(DEVICE)\n",
    "\n",
    "TRAIN_DATA_LOADER = create_data_loader(TRAIN, MAX_LEN, BATCH_SIZE)\n",
    "VAL_DATA_LOADER = create_data_loader(VAL, MAX_LEN, BATCH_SIZE)\n",
    "\n",
    "OPTIMIZER = AdamW(MODEL.parameters(), lr=2e-5, correct_bias=False)\n",
    "TOTAL_STEPS = len(TRAIN_DATA_LOADER) * EPOCHS\n",
    "SCHEDULER = get_linear_schedule_with_warmup(\n",
    "    OPTIMIZER,\n",
    "    num_warmup_steps=0,\n",
    "    num_training_steps=TOTAL_STEPS\n",
    ")\n",
    "LOSS_FN = nn.MSELoss().to(DEVICE)"
   ]
  },
  {
   "cell_type": "code",
   "execution_count": 11,
   "metadata": {
    "scrolled": true
   },
   "outputs": [
    {
     "name": "stdout",
     "output_type": "stream",
     "text": [
      "Epoch 1/10\n",
      "----------\n"
     ]
    },
    {
     "data": {
      "application/vnd.jupyter.widget-view+json": {
       "model_id": "868b0a2a1a1346c79373a5eb0fe60912",
       "version_major": 2,
       "version_minor": 0
      },
      "text/plain": [
       "  0%|          | 0/4624 [00:00<?, ?it/s]"
      ]
     },
     "metadata": {},
     "output_type": "display_data"
    },
    {
     "name": "stderr",
     "output_type": "stream",
     "text": [
      "C:\\Users\\Guan-Ting Chen\\Anaconda3\\lib\\site-packages\\torch\\nn\\modules\\loss.py:445: UserWarning: Using a target size (torch.Size([8])) that is different to the input size (torch.Size([8, 1])). This will likely lead to incorrect results due to broadcasting. Please ensure they have the same size.\n",
      "  return F.mse_loss(input, target, reduction=self.reduction)\n"
     ]
    },
    {
     "name": "stdout",
     "output_type": "stream",
     "text": [
      "Train loss 2.3762889192939114\n"
     ]
    },
    {
     "name": "stderr",
     "output_type": "stream",
     "text": [
      "C:\\Users\\Guan-Ting Chen\\Anaconda3\\lib\\site-packages\\torch\\nn\\modules\\loss.py:445: UserWarning: Using a target size (torch.Size([6])) that is different to the input size (torch.Size([6, 1])). This will likely lead to incorrect results due to broadcasting. Please ensure they have the same size.\n",
      "  return F.mse_loss(input, target, reduction=self.reduction)\n"
     ]
    },
    {
     "data": {
      "application/vnd.jupyter.widget-view+json": {
       "model_id": "1461453210bc487e975e0db74e68afe3",
       "version_major": 2,
       "version_minor": 0
      },
      "text/plain": [
       "  0%|          | 0/63 [00:00<?, ?it/s]"
      ]
     },
     "metadata": {},
     "output_type": "display_data"
    },
    {
     "name": "stdout",
     "output_type": "stream",
     "text": [
      "Val   loss 2.2266971298626492\n",
      "\n",
      "Epoch 2/10\n",
      "----------\n"
     ]
    },
    {
     "name": "stderr",
     "output_type": "stream",
     "text": [
      "C:\\Users\\Guan-Ting Chen\\Anaconda3\\lib\\site-packages\\torch\\nn\\modules\\loss.py:445: UserWarning: Using a target size (torch.Size([4])) that is different to the input size (torch.Size([4, 1])). This will likely lead to incorrect results due to broadcasting. Please ensure they have the same size.\n",
      "  return F.mse_loss(input, target, reduction=self.reduction)\n"
     ]
    },
    {
     "data": {
      "application/vnd.jupyter.widget-view+json": {
       "model_id": "1cc5fff8334749229aba60d243596029",
       "version_major": 2,
       "version_minor": 0
      },
      "text/plain": [
       "  0%|          | 0/4624 [00:00<?, ?it/s]"
      ]
     },
     "metadata": {},
     "output_type": "display_data"
    },
    {
     "name": "stdout",
     "output_type": "stream",
     "text": [
      "Train loss 2.294888647273183\n"
     ]
    },
    {
     "data": {
      "application/vnd.jupyter.widget-view+json": {
       "model_id": "62b62ecc7ad849d0a30304ed1a824d1c",
       "version_major": 2,
       "version_minor": 0
      },
      "text/plain": [
       "  0%|          | 0/63 [00:00<?, ?it/s]"
      ]
     },
     "metadata": {},
     "output_type": "display_data"
    },
    {
     "name": "stdout",
     "output_type": "stream",
     "text": [
      "Val   loss 2.2074419543856667\n",
      "\n",
      "Epoch 3/10\n",
      "----------\n"
     ]
    },
    {
     "data": {
      "application/vnd.jupyter.widget-view+json": {
       "model_id": "8b047f0d64094ebf86a0a196f4b7e216",
       "version_major": 2,
       "version_minor": 0
      },
      "text/plain": [
       "  0%|          | 0/4624 [00:00<?, ?it/s]"
      ]
     },
     "metadata": {},
     "output_type": "display_data"
    },
    {
     "name": "stdout",
     "output_type": "stream",
     "text": [
      "Train loss 2.2838375029962985\n"
     ]
    },
    {
     "data": {
      "application/vnd.jupyter.widget-view+json": {
       "model_id": "8c081587f1ed4a4c9fad242f0c921f5c",
       "version_major": 2,
       "version_minor": 0
      },
      "text/plain": [
       "  0%|          | 0/63 [00:00<?, ?it/s]"
      ]
     },
     "metadata": {},
     "output_type": "display_data"
    },
    {
     "name": "stdout",
     "output_type": "stream",
     "text": [
      "Val   loss 2.20027190163022\n",
      "\n",
      "Epoch 4/10\n",
      "----------\n"
     ]
    },
    {
     "data": {
      "application/vnd.jupyter.widget-view+json": {
       "model_id": "d32566b363d24658a2660c33f1b01081",
       "version_major": 2,
       "version_minor": 0
      },
      "text/plain": [
       "  0%|          | 0/4624 [00:00<?, ?it/s]"
      ]
     },
     "metadata": {},
     "output_type": "display_data"
    },
    {
     "name": "stdout",
     "output_type": "stream",
     "text": [
      "Train loss 2.274609485228633\n"
     ]
    },
    {
     "data": {
      "application/vnd.jupyter.widget-view+json": {
       "model_id": "d70195fe879740aabceb2e69c69a6f2b",
       "version_major": 2,
       "version_minor": 0
      },
      "text/plain": [
       "  0%|          | 0/63 [00:00<?, ?it/s]"
      ]
     },
     "metadata": {},
     "output_type": "display_data"
    },
    {
     "name": "stdout",
     "output_type": "stream",
     "text": [
      "Val   loss 2.197778311986772\n",
      "\n",
      "Epoch 5/10\n",
      "----------\n"
     ]
    },
    {
     "data": {
      "application/vnd.jupyter.widget-view+json": {
       "model_id": "2c10acfd445b4be289148acc7e070346",
       "version_major": 2,
       "version_minor": 0
      },
      "text/plain": [
       "  0%|          | 0/4624 [00:00<?, ?it/s]"
      ]
     },
     "metadata": {},
     "output_type": "display_data"
    },
    {
     "name": "stdout",
     "output_type": "stream",
     "text": [
      "Train loss 2.266235888320115\n"
     ]
    },
    {
     "data": {
      "application/vnd.jupyter.widget-view+json": {
       "model_id": "054e388a4c894ade941a9430889e3133",
       "version_major": 2,
       "version_minor": 0
      },
      "text/plain": [
       "  0%|          | 0/63 [00:00<?, ?it/s]"
      ]
     },
     "metadata": {},
     "output_type": "display_data"
    },
    {
     "name": "stdout",
     "output_type": "stream",
     "text": [
      "Val   loss 2.192674510062687\n",
      "\n",
      "Epoch 6/10\n",
      "----------\n"
     ]
    },
    {
     "data": {
      "application/vnd.jupyter.widget-view+json": {
       "model_id": "555ca6d972974387b8eefe78011ba585",
       "version_major": 2,
       "version_minor": 0
      },
      "text/plain": [
       "  0%|          | 0/4624 [00:00<?, ?it/s]"
      ]
     },
     "metadata": {},
     "output_type": "display_data"
    },
    {
     "name": "stdout",
     "output_type": "stream",
     "text": [
      "Train loss 2.259160612210322\n"
     ]
    },
    {
     "data": {
      "application/vnd.jupyter.widget-view+json": {
       "model_id": "444853e79f6743e7aa9238fdedf23b90",
       "version_major": 2,
       "version_minor": 0
      },
      "text/plain": [
       "  0%|          | 0/63 [00:00<?, ?it/s]"
      ]
     },
     "metadata": {},
     "output_type": "display_data"
    },
    {
     "name": "stdout",
     "output_type": "stream",
     "text": [
      "Val   loss 2.1857088416341752\n",
      "\n",
      "Epoch 7/10\n",
      "----------\n"
     ]
    },
    {
     "data": {
      "application/vnd.jupyter.widget-view+json": {
       "model_id": "66ca4bbce9d64705a88f93c5c64cb8ed",
       "version_major": 2,
       "version_minor": 0
      },
      "text/plain": [
       "  0%|          | 0/4624 [00:00<?, ?it/s]"
      ]
     },
     "metadata": {},
     "output_type": "display_data"
    },
    {
     "name": "stdout",
     "output_type": "stream",
     "text": [
      "Train loss 2.250836876333791\n"
     ]
    },
    {
     "data": {
      "application/vnd.jupyter.widget-view+json": {
       "model_id": "07a53a15a77c4524a085e823cda5b236",
       "version_major": 2,
       "version_minor": 0
      },
      "text/plain": [
       "  0%|          | 0/63 [00:00<?, ?it/s]"
      ]
     },
     "metadata": {},
     "output_type": "display_data"
    },
    {
     "name": "stdout",
     "output_type": "stream",
     "text": [
      "Val   loss 2.1709499207753984\n",
      "\n",
      "Epoch 8/10\n",
      "----------\n"
     ]
    },
    {
     "data": {
      "application/vnd.jupyter.widget-view+json": {
       "model_id": "c4e95a4ec0da4c0293bde7900421157c",
       "version_major": 2,
       "version_minor": 0
      },
      "text/plain": [
       "  0%|          | 0/4624 [00:00<?, ?it/s]"
      ]
     },
     "metadata": {},
     "output_type": "display_data"
    },
    {
     "name": "stdout",
     "output_type": "stream",
     "text": [
      "Train loss 2.2420501721874655\n"
     ]
    },
    {
     "data": {
      "application/vnd.jupyter.widget-view+json": {
       "model_id": "21340ea0470743659c1209481d597530",
       "version_major": 2,
       "version_minor": 0
      },
      "text/plain": [
       "  0%|          | 0/63 [00:00<?, ?it/s]"
      ]
     },
     "metadata": {},
     "output_type": "display_data"
    },
    {
     "name": "stdout",
     "output_type": "stream",
     "text": [
      "Val   loss 2.155906039571005\n",
      "\n",
      "Epoch 9/10\n",
      "----------\n"
     ]
    },
    {
     "data": {
      "application/vnd.jupyter.widget-view+json": {
       "model_id": "ff1f84b49cf047c2b4119a4a46363b5e",
       "version_major": 2,
       "version_minor": 0
      },
      "text/plain": [
       "  0%|          | 0/4624 [00:00<?, ?it/s]"
      ]
     },
     "metadata": {},
     "output_type": "display_data"
    },
    {
     "name": "stdout",
     "output_type": "stream",
     "text": [
      "Train loss 2.2331532800060963\n"
     ]
    },
    {
     "data": {
      "application/vnd.jupyter.widget-view+json": {
       "model_id": "971673e74b0d41dab6fc36a1c120e19a",
       "version_major": 2,
       "version_minor": 0
      },
      "text/plain": [
       "  0%|          | 0/63 [00:00<?, ?it/s]"
      ]
     },
     "metadata": {},
     "output_type": "display_data"
    },
    {
     "name": "stdout",
     "output_type": "stream",
     "text": [
      "Val   loss 2.1388766330385964\n",
      "\n",
      "Epoch 10/10\n",
      "----------\n"
     ]
    },
    {
     "data": {
      "application/vnd.jupyter.widget-view+json": {
       "model_id": "5fa932d36e5f465b9d6b97d08a85612f",
       "version_major": 2,
       "version_minor": 0
      },
      "text/plain": [
       "  0%|          | 0/4624 [00:00<?, ?it/s]"
      ]
     },
     "metadata": {},
     "output_type": "display_data"
    },
    {
     "name": "stdout",
     "output_type": "stream",
     "text": [
      "Train loss 2.2267539006590225\n"
     ]
    },
    {
     "data": {
      "application/vnd.jupyter.widget-view+json": {
       "model_id": "981f523e7e094a298956d28c62719127",
       "version_major": 2,
       "version_minor": 0
      },
      "text/plain": [
       "  0%|          | 0/63 [00:00<?, ?it/s]"
      ]
     },
     "metadata": {},
     "output_type": "display_data"
    },
    {
     "name": "stdout",
     "output_type": "stream",
     "text": [
      "Val   loss 2.1358411037732683\n",
      "\n"
     ]
    }
   ],
   "source": [
    "\"\"\" 訓練流程 \"\"\"\n",
    "BEST_LOSS = 100000000\n",
    "\n",
    "for epoch in range(EPOCHS):\n",
    "    print(f'Epoch {epoch + 1}/{EPOCHS}')\n",
    "    print('-' * 10)\n",
    "\n",
    "    train_loss = train_epoch(\n",
    "        MODEL,\n",
    "        TRAIN_DATA_LOADER,\n",
    "        LOSS_FN,\n",
    "        OPTIMIZER,\n",
    "        SCHEDULER,\n",
    "        len(TRAIN)\n",
    "    )\n",
    "\n",
    "    print(f'Train loss {train_loss}')\n",
    "\n",
    "    val_loss = eval_model(\n",
    "        MODEL,\n",
    "        VAL_DATA_LOADER,\n",
    "        LOSS_FN,\n",
    "        len(VAL)\n",
    "    )\n",
    "\n",
    "    print(f'Val   loss {val_loss}')\n",
    "    print()\n",
    "\n",
    "    if val_loss < BEST_LOSS:\n",
    "#         MODEL.bert.save_pretrained(\"./\")\n",
    "        torch.save(MODEL.state_dict(), 'pytorch_model.pt')\n",
    "        BEST_LOSS = val_loss"
   ]
  },
  {
   "cell_type": "code",
   "execution_count": 13,
   "metadata": {},
   "outputs": [],
   "source": [
    "torch.save(MODEL.state_dict(), 'pytorch_model.pt')"
   ]
  },
  {
   "cell_type": "code",
   "execution_count": 25,
   "metadata": {},
   "outputs": [],
   "source": [
    "def predict(model, text):\n",
    "    encoding = TOKENIZER.encode_plus(\n",
    "            text,\n",
    "            truncation=True,\n",
    "            add_special_tokens=True,\n",
    "            max_length=MAX_LEN,\n",
    "            return_token_type_ids=False,\n",
    "            padding='max_length',\n",
    "            return_attention_mask=True,\n",
    "            return_tensors='pt',\n",
    "    )\n",
    "    outputs = model(\n",
    "                input_ids=encoding['input_ids'].to(DEVICE),\n",
    "                attention_mask=encoding['attention_mask'].to(DEVICE)\n",
    "    )\n",
    "    return outputs"
   ]
  },
  {
   "cell_type": "code",
   "execution_count": 31,
   "metadata": {},
   "outputs": [
    {
     "name": "stdout",
     "output_type": "stream",
     "text": [
      "{'apperance': tensor([[3.9844]], device='cuda:0', grad_fn=<AddmmBackward>), 'aroma': tensor([[4.0325]], device='cuda:0', grad_fn=<AddmmBackward>), 'overall': tensor([[4.0077]], device='cuda:0', grad_fn=<AddmmBackward>), 'palate': tensor([[3.9720]], device='cuda:0', grad_fn=<AddmmBackward>), 'taste': tensor([[4.0881]], device='cuda:0', grad_fn=<AddmmBackward>)}\n"
     ]
    }
   ],
   "source": [
    "# MODEL = BeerRateRegressor()\n",
    "# MODEL.load_model('pytorch_model.pt')\n",
    "pred = predict(MODEL, VAL['review/text'][0])\n",
    "print(pred)"
   ]
  },
  {
   "cell_type": "code",
   "execution_count": 53,
   "metadata": {},
   "outputs": [],
   "source": [
    "TEST = list(VAL['review/text'])[:200] + list(VAL['review/text'])[-200:]\n",
    "TRUE_review_appearance = list(VAL['review/appearance'])[:200] + list(VAL['review/appearance'])[-200:]\n",
    "TRUE_review_aroma = list(VAL['review/aroma'])[:200] + list(VAL['review/aroma'])[-200:]\n",
    "TRUE_review_overall = list(VAL['review/overall'])[:200] + list(VAL['review/overall'])[-200:]\n",
    "TRUE_review_palate = list(VAL['review/palate'])[:200] + list(VAL['review/palate'])[-200:]\n",
    "TRUE_review_taste = list(VAL['review/taste'])[:200] + list(VAL['review/taste'])[-200:]"
   ]
  },
  {
   "cell_type": "code",
   "execution_count": 54,
   "metadata": {},
   "outputs": [],
   "source": [
    "def convert_float_to_05(num):\n",
    "    return round(num * 2) /2"
   ]
  },
  {
   "cell_type": "code",
   "execution_count": 55,
   "metadata": {},
   "outputs": [
    {
     "data": {
      "application/vnd.jupyter.widget-view+json": {
       "model_id": "fd0fa02641d147febd4cf5580a4d2d99",
       "version_major": 2,
       "version_minor": 0
      },
      "text/plain": [
       "  0%|          | 0/400 [00:00<?, ?it/s]"
      ]
     },
     "metadata": {},
     "output_type": "display_data"
    }
   ],
   "source": [
    "apperance_preds = []\n",
    "aroma_preds = []\n",
    "overall_preds = [] \n",
    "palate_preds = []\n",
    "taste_preds = []\n",
    "\n",
    "for test in tqdm(TEST):\n",
    "    pred = pred = predict(MODEL, test)\n",
    "    apperance_preds.append(convert_float_to_05(pred['apperance'].item()))\n",
    "    aroma_preds.append(convert_float_to_05(pred['aroma'].item()))\n",
    "    overall_preds.append(convert_float_to_05(pred['overall'].item()))\n",
    "    palate_preds.append(convert_float_to_05(pred['palate'].item()))\n",
    "    taste_preds.append(convert_float_to_05(pred['taste'].item()))"
   ]
  },
  {
   "cell_type": "code",
   "execution_count": 56,
   "metadata": {},
   "outputs": [
    {
     "name": "stdout",
     "output_type": "stream",
     "text": [
      "apperance 0.4075\n",
      "apperance -0.008108700416392889\n",
      "==============================\n",
      "aroma 0.325\n",
      "aroma 0.0521048847412362\n",
      "==============================\n",
      "overall 0.3775\n",
      "overall 0.016371077762619368\n",
      "==============================\n",
      "palate 0.395\n",
      "palate 0.041942204909865\n",
      "==============================\n",
      "taste 0.2975\n",
      "taste 0.01425758797024268\n",
      "==============================\n"
     ]
    }
   ],
   "source": [
    "import sklearn.metrics as metrics\n",
    "\n",
    "for (TRUE, data, desc) in zip([TRUE_review_appearance, TRUE_review_aroma, TRUE_review_overall, TRUE_review_palate, TRUE_review_taste],\n",
    "                  [apperance_preds, aroma_preds, overall_preds, palate_preds, taste_preds],\n",
    "                  ['apperance', 'aroma', 'overall', 'palate', 'taste']):\n",
    "    print(desc, metrics.accuracy_score(np.array(TRUE,dtype=str), np.array(data,dtype=str)))\n",
    "    print(desc, metrics.r2_score(TRUE, data))\n",
    "    print('='*30)"
   ]
  },
  {
   "cell_type": "code",
   "execution_count": 57,
   "metadata": {},
   "outputs": [
    {
     "data": {
      "image/png": "[encoded data removed]",
      "text/plain": [
       "<Figure size 1296x720 with 10 Axes>"
      ]
     },
     "metadata": {
      "needs_background": "light"
     },
     "output_type": "display_data"
    }
   ],
   "source": [
    "import matplotlib.pyplot as plt\n",
    "import seaborn as sns\n",
    "\n",
    "plt.figure(figsize=(18,10))\n",
    "for i, (TRUE, data, desc) in enumerate(zip([TRUE_review_appearance, TRUE_review_aroma, TRUE_review_overall, TRUE_review_palate, TRUE_review_taste],\n",
    "                         [apperance_preds, aroma_preds, overall_preds, palate_preds, taste_preds],\n",
    "                         ['apperance', 'aroma', 'overall', 'palate', 'taste']), 1):\n",
    "    plt.subplot(2,3,i)\n",
    "    RESULT = pd.DataFrame({\"True\": TRUE, \"Predict\": data})\n",
    "    confusion_matrix = pd.crosstab(RESULT[\"True\"], RESULT[\"Predict\"], rownames=['Actual'], colnames=['Predicted'])\n",
    "    sns.heatmap(confusion_matrix, annot=True)\n",
    "    plt.title(desc)"
   ]
  }
 ],
 "metadata": {
  "kernelspec": {
   "display_name": "Python 3",
   "language": "python",
   "name": "python3"
  },
  "language_info": {
   "codemirror_mode": {
    "name": "ipython",
    "version": 3
   },
   "file_extension": ".py",
   "mimetype": "text/x-python",
   "name": "python",
   "nbconvert_exporter": "python",
   "pygments_lexer": "ipython3",
   "version": "3.6.5"
  }
 },
 "nbformat": 4,
 "nbformat_minor": 4
}
