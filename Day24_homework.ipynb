{
 "cells": [
  {
   "cell_type": "markdown",
   "metadata": {
    "id": "dFHEqlFxzJnd"
   },
   "source": [
    "# 作業 : 實做向量拼接方式 ATTENTION"
   ]
  },
  {
   "cell_type": "markdown",
   "metadata": {
    "id": "YrohU0VUzR4j"
   },
   "source": [
    "# [作業目標]\n",
    "- 實做向量拼接方式 ATTENTION\n",
    "- 運用 實做的 ATTENTION FUNCTION 在之前的 RNN seq 2 seq attention"
   ]
  },
  {
   "cell_type": "markdown",
   "metadata": {
    "id": "qD016DwpzSZb"
   },
   "source": [
    "# [作業重點]\n",
    "向量拼接方式 ATTENTION\n",
    "- 先將 q and k concat 起來\n",
    "- 然後經過一層 W attention 自學參數,\n",
    "- 和一個 tanh activation function. \n",
    "- 最後乘以一個 Vt 調整成一個同等於input seq 的數列.\n",
    "- ![image.png](data:image/png;base64,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)"
   ]
  },
  {
   "cell_type": "code",
   "execution_count": 1,
   "metadata": {
    "id": "dWKMMKlb0nHE"
   },
   "outputs": [],
   "source": [
    "import torch\n",
    "import torch.nn as nn\n",
    "import torch.optim as optim\n",
    "import torch.nn.functional as F"
   ]
  },
  {
   "cell_type": "code",
   "execution_count": 2,
   "metadata": {
    "id": "fslSk8lOzFt5"
   },
   "outputs": [],
   "source": [
    "# 請在這邊實做向量拼接方式 ATTENTION \n",
    "class Attention(nn.Module):\n",
    "    def __init__(self, enc_hid_dim, dec_hid_dim):\n",
    "        super().__init__()\n",
    "        \n",
    "        self.attn = nn.Linear((enc_hid_dim * 2) + dec_hid_dim, dec_hid_dim)\n",
    "        self.v = nn.Linear(dec_hid_dim, 1, bias = False)\n",
    "        \n",
    "    def forward(self, hidden, encoder_outputs, mask):\n",
    "        \n",
    "        #hidden = [batch size, dec hid dim]\n",
    "        #encoder_outputs = [src len, batch size, enc hid dim * 2]\n",
    "        \n",
    "        batch_size = encoder_outputs.shape[1]\n",
    "        src_len = encoder_outputs.shape[0]\n",
    "        \n",
    "        #repeat decoder hidden state src_len times\n",
    "        # 這邊開始，同學可以跟隨我們的建議 完成程式 或是自行寫作\n",
    "        # 整理代表 q and k 的 hidden and encoder_output \n",
    "        hidden = hidden.unsqueeze(1).repeat(1, src_len, 1)\n",
    "  \n",
    "        encoder_outputs = encoder_outputs.permute(1, 0, 2)\n",
    "        \n",
    "        #hidden = [batch size, src len, dec hid dim]\n",
    "        #encoder_outputs = [batch size, src len, enc hid dim * 2]\n",
    "        \n",
    "        # 計算 向量拼接方式 ATTENTION\n",
    "        # 先將 q and k concat 起來\n",
    "        # 然後經過一層 W attention 自學參數,\n",
    "        # 和一個 tanh activation function.\n",
    "        # 最後乘以一個 Vt 調整成一個同等於input seq 的數列.\n",
    "        attention = torch.cat([hidden, encoder_outputs], dim=2)\n",
    "        attention = torch.tanh(self.attn(attention))\n",
    "        \n",
    "        #attention = [batch size, src len, dec hid dim]\n",
    "        # 將 ATTENTION 結果乘以 V\n",
    "        attention = self.v(attention).squeeze()\n",
    "        \n",
    "        #attention = [batch size, src len]\n",
    "        # apply MASK 建議使用 tensor 的 masked_fill \n",
    "        attention = attention.masked_fill(mask == 0, -1e10)\n",
    "        \n",
    "        return F.softmax(attention, dim = 1)"
   ]
  }
 ],
 "metadata": {
  "colab": {
   "authorship_tag": "ABX9TyO+oRm4MxVZ+mOIEGj+nMkQ",
   "name": "homework.ipynb",
   "provenance": []
  },
  "kernelspec": {
   "display_name": "Python 3",
   "language": "python",
   "name": "python3"
  },
  "language_info": {
   "codemirror_mode": {
    "name": "ipython",
    "version": 3
   },
   "file_extension": ".py",
   "mimetype": "text/x-python",
   "name": "python",
   "nbconvert_exporter": "python",
   "pygments_lexer": "ipython3",
   "version": "3.6.5"
  }
 },
 "nbformat": 4,
 "nbformat_minor": 1
}
