{
 "cells": [
  {
   "cell_type": "markdown",
   "metadata": {},
   "source": [
    "### <strong>主題:\n",
    "啤酒評論評分預測 - 分類模型訓練結果測試\n",
    "### <strong>說明:\n",
    "花了不少時間終於完成模型的訓練了，接下來就剩下最後一個重要的步驟 - 驗證模型了，這是一 <br />\n",
    "個相當重要的部分，如何從訓練結果的驗證中評估模型的好壞，並進一步得知如何改善模型是實務 <br />\n",
    "中必經的一個過程。\n",
    "\n",
    "### <strong>題目\n",
    "1. 建構出預測模型的框架，並且載入上次訓練完畢的模型\n",
    "2. 以預測模型評估先前作業所分割出資料及的各項評分\n",
    "3. 預測完成之後計算每出各項評分的準確度(accuracy)與解釋力(R square)"
   ]
  },
  {
   "cell_type": "code",
   "execution_count": 1,
   "metadata": {},
   "outputs": [],
   "source": [
    "import pandas as pd\n",
    "import seaborn as sn\n",
    "import matplotlib.pyplot as plt\n",
    "import torch\n",
    "from torch import nn\n",
    "from tqdm import tqdm\n",
    "from transformers import DistilBertModel, DistilBertTokenizer\n",
    "import sklearn.metrics as metrics"
   ]
  },
  {
   "cell_type": "code",
   "execution_count": 2,
   "metadata": {},
   "outputs": [],
   "source": [
    "PRE_TRAINED_MODEL_NAME = 'distilbert-base-cased'# \"bert-base-cased\"\n",
    "DEVICE = torch.device(\"cuda:0\" if torch.cuda.is_available() else \"cpu\")\n",
    "TOKENIZER = DistilBertTokenizer.from_pretrained(PRE_TRAINED_MODEL_NAME)\n",
    "MAX_LEN = 255"
   ]
  },
  {
   "cell_type": "code",
   "execution_count": 37,
   "metadata": {},
   "outputs": [],
   "source": [
    "class BeerRateClassifier(nn.Module):\n",
    "    \"\"\"\n",
    "    啤酒評論評分分類模型的主體\n",
    "    Beer sentiment main model for review sentiment analyzer\n",
    "    \"\"\"\n",
    "    def __init__(self,\n",
    "                 apperance_n_classes,\n",
    "                 aroma_n_classes,\n",
    "                 overall_n_classes,\n",
    "                 palate_n_classes,\n",
    "                 taste_n_classes,\n",
    "                ):\n",
    "        super(BeerRateClassifier, self).__init__()\n",
    "        self.bert = DistilBertModel.from_pretrained(PRE_TRAINED_MODEL_NAME)\n",
    "        self.apperance_out = nn.Sequential(\n",
    "                                nn.Dropout(p=0.2),\n",
    "                                nn.Linear(self.bert.config.hidden_size, apperance_n_classes)\n",
    "                             )\n",
    "        self.aroma_out = nn.Sequential(\n",
    "                                nn.Dropout(p=0.2),\n",
    "                                nn.Linear(self.bert.config.hidden_size, aroma_n_classes)     \n",
    "                            )\n",
    "        self.overall_out = nn.Sequential(\n",
    "                                nn.Dropout(p=0.2),\n",
    "                                nn.Linear(self.bert.config.hidden_size, overall_n_classes)\n",
    "                            )\n",
    "        self.palate_out = nn.Sequential(\n",
    "                                nn.Dropout(p=0.2),\n",
    "                                nn.Linear(self.bert.config.hidden_size, palate_n_classes)\n",
    "                            )\n",
    "        self.taste_out = nn.Sequential(\n",
    "                                nn.Dropout(p=0.2),\n",
    "                                nn.Linear(self.bert.config.hidden_size, taste_n_classes)\n",
    "                            )\n",
    "        \n",
    "    def load_model(self, path):\n",
    "        \"\"\"\n",
    "        載入先前訓練好的權重檔\n",
    "        \"\"\"\n",
    "        self.load_state_dict(torch.load(path, map_location=DEVICE))\n",
    "\n",
    "    def forward(self, input_ids, attention_mask):\n",
    "        (output,) = self.bert(\n",
    "            input_ids=input_ids,\n",
    "            attention_mask=attention_mask\n",
    "        )\n",
    "        pooled_output = output[:,-1,:].squeeze(dim=1)\n",
    "        \n",
    "        apperance_output = self.apperance_out(pooled_output)\n",
    "        aroma_output = self.aroma_out(pooled_output)\n",
    "        overall_output = self.overall_out(pooled_output)\n",
    "        palate_output = self.palate_out(pooled_output)\n",
    "        taste_output = self.taste_out(pooled_output)\n",
    "        return {\n",
    "            \"apperance\": apperance_output,\n",
    "            \"aroma\": aroma_output,\n",
    "            \"overall\": overall_output,\n",
    "            \"palate\": palate_output,\n",
    "            \"taste\": taste_output,\n",
    "        }\n",
    "    \n",
    "    def predicts(self, text):\n",
    "        \"\"\"\n",
    "        主要的分類器，將input電影評論輸入模型，將輸出轉化為預測評分\n",
    "        make prediction according to the text with the given model\n",
    "        \"\"\"\n",
    "        encoding = TOKENIZER.encode_plus(\n",
    "            text,\n",
    "            truncation=True,\n",
    "            add_special_tokens=True,\n",
    "            max_length=MAX_LEN,\n",
    "            return_token_type_ids=False,\n",
    "            padding='max_length',\n",
    "            return_attention_mask=True,\n",
    "            return_tensors='pt',\n",
    "        )\n",
    "\n",
    "        (output,) = self.bert(\n",
    "            input_ids=encoding[\"input_ids\"],\n",
    "            attention_mask=encoding[\"attention_mask\"]\n",
    "        )\n",
    "        pooled_output = output[:,-1,:].squeeze(dim=1)\n",
    "#         print(output.size(), pooled_output.size())\n",
    "        apperance_output = self.apperance_out(pooled_output)\n",
    "        aroma_output = self.aroma_out(pooled_output)\n",
    "        overall_output = self.overall_out(pooled_output)\n",
    "        palate_output = self.palate_out(pooled_output)\n",
    "        taste_output = self.taste_out(pooled_output)\n",
    "        \n",
    "        _, apperance_preds = torch.max(apperance_output, dim=1)\n",
    "        _, aroma_preds = torch.max(aroma_output, dim=1)\n",
    "        _, overall_preds = torch.max(overall_output, dim=1)\n",
    "        _, palate_preds = torch.max(palate_output, dim=1)\n",
    "        _, taste_preds = torch.max(taste_output, dim=1)\n",
    "        \n",
    "        return {\"apperance_preds\": int(apperance_preds),\n",
    "                \"aroma_preds\": int(aroma_preds),\n",
    "                \"overall_preds\": int(overall_preds),\n",
    "                \"palate_preds\": int(palate_preds),\n",
    "                \"taste_preds\": int(taste_preds)\n",
    "               }"
   ]
  },
  {
   "cell_type": "code",
   "execution_count": 38,
   "metadata": {},
   "outputs": [],
   "source": [
    "VAL = pd.read_json(\"test_set.json\")\n",
    "VAL = VAL.dropna(subset=['review/text']).sample(frac=1).reset_index(drop=True)\n",
    "TEST = list(VAL['review/text'])[:200] + list(VAL['review/text'])[-200:]\n",
    "TRUE_review_appearance = list(VAL.review_appearance)[:200] + list(VAL.review_appearance)[-200:]\n",
    "TRUE_review_aroma = list(VAL.review_aroma)[:200] + list(VAL.review_aroma)[-200:]\n",
    "TRUE_review_overall = list(VAL.review_overall)[:200] + list(VAL.review_overall)[-200:]\n",
    "TRUE_review_palate = list(VAL.review_palate)[:200] + list(VAL.review_palate)[-200:]\n",
    "TRUE_review_taste = list(VAL.review_taste)[:200] + list(VAL.review_taste)[-200:]"
   ]
  },
  {
   "cell_type": "code",
   "execution_count": 39,
   "metadata": {},
   "outputs": [],
   "source": [
    "\"\"\" 分類模型 \"\"\"\n",
    "MODEL = BeerRateClassifier(4, 4, 4, 4, 4)\n",
    "MODEL.load_model(\"pytorch_model.bin\")"
   ]
  },
  {
   "cell_type": "code",
   "execution_count": 40,
   "metadata": {},
   "outputs": [
    {
     "name": "stdout",
     "output_type": "stream",
     "text": [
      "{'apperance_preds': 2, 'aroma_preds': 2, 'overall_preds': 2, 'palate_preds': 2, 'taste_preds': 2}\n"
     ]
    }
   ],
   "source": [
    "predict = MODEL.predicts(TEST[1])\n",
    "print(predict)"
   ]
  },
  {
   "cell_type": "code",
   "execution_count": 41,
   "metadata": {},
   "outputs": [
    {
     "name": "stderr",
     "output_type": "stream",
     "text": [
      "100%|████████████████████████████████████████████████████████████████████████████████| 400/400 [01:23<00:00,  4.80it/s]\n"
     ]
    }
   ],
   "source": [
    "data = []\n",
    "for test in tqdm(TEST):\n",
    "    predict = MODEL.predicts(test)\n",
    "    data.append(predict)"
   ]
  },
  {
   "cell_type": "code",
   "execution_count": 42,
   "metadata": {},
   "outputs": [],
   "source": [
    "apperance_preds = []\n",
    "aroma_preds = []\n",
    "overall_preds = [] \n",
    "palate_preds = []\n",
    "taste_preds = []\n",
    "for predict in data:\n",
    "    apperance_preds.append(predict['apperance_preds'])\n",
    "    aroma_preds.append(predict['aroma_preds'])\n",
    "    overall_preds.append(predict['overall_preds']) \n",
    "    palate_preds.append(predict['palate_preds'])\n",
    "    taste_preds.append(predict['taste_preds'])"
   ]
  },
  {
   "cell_type": "code",
   "execution_count": 43,
   "metadata": {},
   "outputs": [
    {
     "name": "stdout",
     "output_type": "stream",
     "text": [
      "apperance 0.1375\n",
      "apperance 0.0\n",
      "==============================\n",
      "aroma 0.225\n",
      "aroma 0.0\n",
      "==============================\n",
      "overall 0.415\n",
      "overall 0.0\n",
      "==============================\n",
      "palate 0.41\n",
      "palate 0.0\n",
      "==============================\n",
      "taste 0.365\n",
      "taste 0.0\n",
      "==============================\n"
     ]
    }
   ],
   "source": [
    "TRUE_review_appearance = list(VAL.review_appearance)[:200] + list(VAL.review_appearance)[-200:]\n",
    "TRUE_review_aroma = list(VAL.review_aroma)[:200] + list(VAL.review_aroma)[-200:]\n",
    "TRUE_review_overall = list(VAL.review_overall)[:200] + list(VAL.review_overall)[-200:]\n",
    "TRUE_review_palate = list(VAL.review_palate)[:200] + list(VAL.review_palate)[-200:]\n",
    "TRUE_review_taste = list(VAL.review_taste)[:200] + list(VAL.review_taste)[-200:]\n",
    "\n",
    "for (TRUE, data, desc) in zip([TRUE_review_appearance, TRUE_review_aroma, TRUE_review_overall, TRUE_review_palate, TRUE_review_taste],\n",
    "                  [apperance_preds, aroma_preds, overall_preds, palate_preds, taste_preds],\n",
    "                  ['apperance', 'aroma', 'overall', 'palate', 'taste']):\n",
    "    print(desc, metrics.accuracy_score(TRUE, data))\n",
    "    print(desc, metrics.r2_score(TRUE, data))\n",
    "    print('='*30)"
   ]
  },
  {
   "cell_type": "code",
   "execution_count": 44,
   "metadata": {},
   "outputs": [
    {
     "data": {
      "image/png": "[encoded data removed]",
      "text/plain": [
       "<Figure size 1296x576 with 10 Axes>"
      ]
     },
     "metadata": {
      "needs_background": "light"
     },
     "output_type": "display_data"
    }
   ],
   "source": [
    "plt.figure(figsize=(18,8))\n",
    "for i, (TRUE, data, desc) in enumerate(zip([TRUE_review_appearance, TRUE_review_aroma, TRUE_review_overall, TRUE_review_palate, TRUE_review_taste],\n",
    "                         [apperance_preds, aroma_preds, overall_preds, palate_preds, taste_preds],\n",
    "                         ['apperance', 'aroma', 'overall', 'palate', 'taste']), 1):\n",
    "    plt.subplot(2,3,i)\n",
    "    RESULT = pd.DataFrame({\"True\": TRUE, \"Predict\": data})\n",
    "    confusion_matrix = pd.crosstab(RESULT[\"True\"], RESULT[\"Predict\"], rownames=['Actual'], colnames=['Predicted'])\n",
    "    sn.heatmap(confusion_matrix, annot=True)\n",
    "    plt.title(desc)"
   ]
  }
 ],
 "metadata": {
  "kernelspec": {
   "display_name": "Python 3",
   "language": "python",
   "name": "python3"
  },
  "language_info": {
   "codemirror_mode": {
    "name": "ipython",
    "version": 3
   },
   "file_extension": ".py",
   "mimetype": "text/x-python",
   "name": "python",
   "nbconvert_exporter": "python",
   "pygments_lexer": "ipython3",
   "version": "3.6.5"
  }
 },
 "nbformat": 4,
 "nbformat_minor": 4
}
