{
 "cells": [
  {
   "cell_type": "markdown",
   "metadata": {},
   "source": [
    "### 作業目的: 更加熟習pytorch的tensor操作\n",
    "\n",
    "pytorch中有提供很多的API，讓使用者針對tensor進行各式各樣的操作，本次的作業希望讀者由pytorch的[官方網站](https://pytorch.org/docs/stable/torch.html)中選定四個針對tensor操作的API，對他的使用方法進行範例操作演練。"
   ]
  },
  {
   "cell_type": "markdown",
   "metadata": {},
   "source": [
    "### 選定的API 函數\n",
    "\n",
    "**請寫下選定的API functions**\n",
    "\n",
    "ex:\n",
    "* torch.from_array() / tensor.numpy()\n",
    "* torch.unsqueeze() / torch.squeeze()\n",
    "* tensor.transpose() / tensor.permute()\n",
    "* torch.reshape() / tensor.view()"
   ]
  },
  {
   "cell_type": "code",
   "execution_count": 1,
   "metadata": {},
   "outputs": [],
   "source": [
    "# Import torch and other required modules\n",
    "import torch\n",
    "import numpy as np"
   ]
  },
  {
   "cell_type": "markdown",
   "metadata": {},
   "source": [
    "### 範例:\n",
    "### Function 1 - torch.from_array() / tensor.numpy()"
   ]
  },
  {
   "cell_type": "code",
   "execution_count": 2,
   "metadata": {},
   "outputs": [
    {
     "name": "stdout",
     "output_type": "stream",
     "text": [
      "a: <class 'numpy.ndarray'>, float64\n",
      "b: <class 'torch.Tensor'>, torch.float64\n",
      "c: <class 'torch.Tensor'>, torch.float64\n",
      "d: <class 'numpy.ndarray'>, float64\n"
     ]
    }
   ],
   "source": [
    "# Example 1 - 將torch tensor與numpy ndarray互相轉換\n",
    "a = np.random.rand(1,2,3,3)\n",
    "print(f'a: {type(a)}, {a.dtype}')\n",
    "b = torch.from_numpy(a)\n",
    "print(f'b: {type(b)}, {b.dtype}')\n",
    "c = torch.tensor(a)\n",
    "print(f'c: {type(c)}, {c.dtype}')\n",
    "d = c.numpy()\n",
    "print(f'd: {type(d)}, {d.dtype}')"
   ]
  },
  {
   "cell_type": "code",
   "execution_count": 3,
   "metadata": {},
   "outputs": [
    {
     "name": "stdout",
     "output_type": "stream",
     "text": [
      "a: <class 'numpy.ndarray'>, int32\n",
      "b: <class 'torch.Tensor'>, torch.int32\n",
      "c: <class 'torch.Tensor'>, torch.int32\n",
      "d: <class 'numpy.ndarray'>, int32\n"
     ]
    }
   ],
   "source": [
    "# Example 2 - 經過轉換後，torch tensor與numpy array依然有相近的資料型態\n",
    "a = np.random.randint(low=0, high=10, size=(2,2))\n",
    "print(f'a: {type(a)}, {a.dtype}')\n",
    "b = torch.from_numpy(a)\n",
    "print(f'b: {type(b)}, {b.dtype}')\n",
    "c = torch.tensor(a)\n",
    "print(f'c: {type(c)}, {c.dtype}')\n",
    "d = c.numpy()\n",
    "print(f'd: {type(d)}, {d.dtype}')"
   ]
  },
  {
   "cell_type": "markdown",
   "metadata": {},
   "source": [
    "### Function 1 - torch.unsqueeze() / torch.squeeze()"
   ]
  },
  {
   "cell_type": "code",
   "execution_count": 4,
   "metadata": {},
   "outputs": [
    {
     "name": "stdout",
     "output_type": "stream",
     "text": [
      "a: <class 'torch.Tensor'>, torch.Size([1, 2, 3, 3])\n",
      "b: <class 'torch.Tensor'>, torch.Size([1, 2, 3, 3, 1])\n"
     ]
    }
   ],
   "source": [
    "# Example 1 - ### b為在a中第五維(dim=4)中新增一個維數為1的維度\n",
    "a = torch.randn(1,2,3,3)\n",
    "print(f'a: {type(a)}, {a.size()}')\n",
    "b = a.unsqueeze(dim=4)\n",
    "print(f'b: {type(b)}, {b.size()}')"
   ]
  },
  {
   "cell_type": "code",
   "execution_count": 5,
   "metadata": {},
   "outputs": [
    {
     "name": "stdout",
     "output_type": "stream",
     "text": [
      "a: <class 'torch.Tensor'>, torch.Size([1, 2, 3, 3])\n",
      "b: <class 'torch.Tensor'>, torch.Size([2, 3, 3])\n"
     ]
    }
   ],
   "source": [
    "# Example 2 - ### b為在將a中該維度維數只有1的維度刪去\n",
    "a = torch.randn(1,2,3,3)\n",
    "print(f'a: {type(a)}, {a.size()}')\n",
    "b = a.squeeze()\n",
    "print(f'b: {type(b)}, {b.size()}')"
   ]
  },
  {
   "cell_type": "markdown",
   "metadata": {},
   "source": [
    "### Function 2 - tensor.transpose() / tensor.permute()"
   ]
  },
  {
   "cell_type": "code",
   "execution_count": 6,
   "metadata": {},
   "outputs": [
    {
     "name": "stdout",
     "output_type": "stream",
     "text": [
      "a: <class 'torch.Tensor'>, torch.Size([1, 2, 3, 3])\n",
      "b: <class 'torch.Tensor'>, torch.Size([1, 3, 2, 3])\n"
     ]
    }
   ],
   "source": [
    "# Example 1 - ### 把tensor第二(dim=1)和第三維(dim=2)互換\n",
    "a = torch.randn(1,2,3,3)\n",
    "print(f'a: {type(a)}, {a.size()}')\n",
    "b = a.transpose(1,2)\n",
    "print(f'b: {type(b)}, {b.size()}')"
   ]
  },
  {
   "cell_type": "code",
   "execution_count": 7,
   "metadata": {},
   "outputs": [
    {
     "name": "stdout",
     "output_type": "stream",
     "text": [
      "a: <class 'torch.Tensor'>, torch.Size([1, 2, 3, 3])\n",
      "b: <class 'torch.Tensor'>, torch.Size([1, 3, 2, 3])\n"
     ]
    }
   ],
   "source": [
    "# Example 2 - ### 把tensor第二(dim=1)和第三維(dim=2)互換\n",
    "a = torch.randn(1,2,3,3)\n",
    "print(f'a: {type(a)}, {a.size()}')\n",
    "b = a.permute(0,2,1,3)\n",
    "print(f'b: {type(b)}, {b.size()}')"
   ]
  },
  {
   "cell_type": "markdown",
   "metadata": {},
   "source": [
    "### Function 3 - torch.reshape() / tensor.view()"
   ]
  },
  {
   "cell_type": "code",
   "execution_count": 8,
   "metadata": {},
   "outputs": [
    {
     "name": "stdout",
     "output_type": "stream",
     "text": [
      "a: <class 'torch.Tensor'>, torch.Size([1, 2, 3, 3])\n",
      "b: <class 'torch.Tensor'>, torch.Size([2, 9])\n"
     ]
    }
   ],
   "source": [
    "# Example 1 - ### tensor 轉換為兩維 且第一維(dim=0)維數為2\n",
    "a = torch.randn(1,2,3,3)\n",
    "print(f'a: {type(a)}, {a.size()}')\n",
    "b = a.reshape(2,-1)\n",
    "print(f'b: {type(b)}, {b.size()}')"
   ]
  },
  {
   "cell_type": "code",
   "execution_count": 9,
   "metadata": {},
   "outputs": [
    {
     "name": "stdout",
     "output_type": "stream",
     "text": [
      "a: <class 'torch.Tensor'>, torch.Size([1, 2, 3, 3])\n",
      "b: <class 'torch.Tensor'>, torch.Size([2, 9])\n"
     ]
    }
   ],
   "source": [
    "# Example 2 - ### tensor 轉換為兩維 且第一維(dim=0)維數為2\n",
    "a = torch.randn(1,2,3,3)\n",
    "print(f'a: {type(a)}, {a.size()}')\n",
    "b = a.view(2,-1)\n",
    "print(f'b: {type(b)}, {b.size()}')"
   ]
  },
  {
   "cell_type": "markdown",
   "metadata": {},
   "source": [
    "### Function 4 - torch.full() / torch.full_like()"
   ]
  },
  {
   "cell_type": "code",
   "execution_count": 10,
   "metadata": {},
   "outputs": [
    {
     "name": "stdout",
     "output_type": "stream",
     "text": [
      "tensor([[10., 10., 10.],\n",
      "        [10., 10., 10.]])\n",
      "a: <class 'torch.Tensor'>, torch.Size([2, 3])\n"
     ]
    }
   ],
   "source": [
    "# Example 1 - ### 建立一個size為(2,3)且元素值全為10.的tensor\n",
    "a = torch.full((2,3), 10.)\n",
    "print(a)\n",
    "print(f'a: {type(a)}, {a.size()}')"
   ]
  },
  {
   "cell_type": "code",
   "execution_count": 11,
   "metadata": {},
   "outputs": [
    {
     "name": "stdout",
     "output_type": "stream",
     "text": [
      "tensor([[20., 20., 20.],\n",
      "        [20., 20., 20.]])\n",
      "b: <class 'torch.Tensor'>, torch.Size([2, 3])\n"
     ]
    }
   ],
   "source": [
    "# Example 2 - ### 建立一個size與a相同且元素值全為20.的tensor\n",
    "b = torch.full_like(a, 20.)\n",
    "print(b)\n",
    "print(f'b: {type(b)}, {b.size()}')"
   ]
  }
 ],
 "metadata": {
  "kernelspec": {
   "display_name": "Python 3",
   "language": "python",
   "name": "python3"
  },
  "language_info": {
   "codemirror_mode": {
    "name": "ipython",
    "version": 3
   },
   "file_extension": ".py",
   "mimetype": "text/x-python",
   "name": "python",
   "nbconvert_exporter": "python",
   "pygments_lexer": "ipython3",
   "version": "3.6.5"
  }
 },
 "nbformat": 4,
 "nbformat_minor": 2
}
