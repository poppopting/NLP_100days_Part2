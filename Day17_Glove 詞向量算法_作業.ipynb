{
 "cells": [
  {
   "cell_type": "markdown",
   "metadata": {
    "id": "Eahg49YB26Dz"
   },
   "source": [
    "# 作業 : 變更不同的 GloVe 模型, 並使用 gensim 套件觀察模型表現"
   ]
  },
  {
   "cell_type": "markdown",
   "metadata": {
    "id": "YGoyi4sV26D1"
   },
   "source": [
    "# [作業目標]\n",
    "- 載入不同版本的 GloVe 模型, 並觀察模型間有何差異"
   ]
  },
  {
   "cell_type": "markdown",
   "metadata": {
    "id": "zbjTpbTL26D2"
   },
   "source": [
    "# [作業重點]\n",
    "- 觀察 GloVe 不同的預訓練詞向量, 效果間的差異"
   ]
  },
  {
   "cell_type": "markdown",
   "metadata": {
    "id": "zdWgxrSE26D2"
   },
   "source": [
    "# Step 1\n",
    "- 到 GloVe 官方網站 (https://github.com/stanfordnlp/GloVe), 由四組預訓練模型選擇一項下載\n",
    "- 將模型檔解壓縮後, 選擇並複製詞向量檔到本程式同一執行目錄中\n",
    "- 依照你所選擇的詞向量檔, 修改設定模型中的\"input_file\"與\"output_file\", 再執行後續程式"
   ]
  },
  {
   "cell_type": "code",
   "execution_count": 1,
   "metadata": {
    "id": "fusOlDux26D2"
   },
   "outputs": [],
   "source": [
    "# 載入 gensim 與 GloVe 模型容器\n",
    "from gensim.models import KeyedVectors\n",
    "from gensim.scripts.glove2word2vec import glove2word2vec\n",
    "\n",
    "# 忽略警告訊息\n",
    "import warnings\n",
    "warnings.filterwarnings(\"ignore\")"
   ]
  },
  {
   "cell_type": "code",
   "execution_count": 2,
   "metadata": {},
   "outputs": [],
   "source": [
    "import os"
   ]
  },
  {
   "cell_type": "code",
   "execution_count": 3,
   "metadata": {},
   "outputs": [],
   "source": [
    "for file in os.listdir('glove'):\n",
    "    if file.startswith('glove'):\n",
    "        input_file = os.path.join('glove', file)\n",
    "        output_file = os.path.join('glove', 'gensim_' + file)\n",
    "        glove2word2vec(input_file, output_file)"
   ]
  },
  {
   "cell_type": "markdown",
   "metadata": {
    "id": "wsXDXMnw26D3"
   },
   "source": [
    "# Step 2\n",
    "- 觀察變更預訓練詞向量的效果"
   ]
  },
  {
   "cell_type": "code",
   "execution_count": 4,
   "metadata": {},
   "outputs": [
    {
     "data": {
      "text/plain": [
       "['gensim_glove.6B.100d.txt',\n",
       " 'gensim_glove.6B.200d.txt',\n",
       " 'gensim_glove.6B.300d.txt',\n",
       " 'gensim_glove.6B.50d.txt']"
      ]
     },
     "execution_count": 4,
     "metadata": {},
     "output_type": "execute_result"
    }
   ],
   "source": [
    "[file for file in os.listdir('glove') if file.startswith('gensim')]"
   ]
  },
  {
   "cell_type": "code",
   "execution_count": 5,
   "metadata": {},
   "outputs": [],
   "source": [
    "def monitor_version(output_file):\n",
    "    model = KeyedVectors.load_word2vec_format(output_file, binary=False)\n",
    "\n",
    "    # 顯示最相近的字彙\n",
    "    print('最接近 woman 的字彙:\\n', model.most_similar(['woman']))\n",
    "    \n",
    "    # 顯示最相近的字彙(附加反義詞)\n",
    "    print('最接近 woman, king 的字彙(附加反義詞 man):\\n', model.most_similar(positive=['woman', 'king'], negative=['man'], topn=5))\n",
    "    \n",
    "    # 挑選最不相同的字彙\n",
    "    print('挑選最不相同的字彙 breakfast cereal dinner lunch:\\n', model.wv.doesnt_match(\"breakfast cereal dinner lunch\".split()))\n",
    "    \n",
    "    # 顯示字彙間的相似性\n",
    "    print('woman, man 的相似性:', model.wv.similarity('woman', 'man'))"
   ]
  },
  {
   "cell_type": "code",
   "execution_count": 7,
   "metadata": {
    "id": "bP_o11tT26D5"
   },
   "outputs": [
    {
     "name": "stdout",
     "output_type": "stream",
     "text": [
      "最接近 woman 的字彙:\n",
      " [('girl', 0.9065280556678772), ('man', 0.8860336542129517), ('mother', 0.8763703107833862), ('her', 0.86131352186203), ('boy', 0.8596119284629822), ('she', 0.8430695533752441), ('herself', 0.8224567770957947), ('child', 0.8108214735984802), ('wife', 0.8037394881248474), ('old', 0.7982394695281982)]\n",
      "最接近 woman, king 的字彙(附加反義詞 man):\n",
      " [('queen', 0.8523603677749634), ('throne', 0.7664334177970886), ('prince', 0.759214460849762), ('daughter', 0.7473883032798767), ('elizabeth', 0.7460220456123352)]\n",
      "挑選最不相同的字彙 breakfast cereal dinner lunch:\n",
      " cereal\n",
      "woman, man 的相似性: 0.8860338\n"
     ]
    }
   ],
   "source": [
    "monitor_version('glove/gensim_glove.6B.50d.txt')"
   ]
  },
  {
   "cell_type": "code",
   "execution_count": 8,
   "metadata": {},
   "outputs": [
    {
     "name": "stdout",
     "output_type": "stream",
     "text": [
      "最接近 woman 的字彙:\n",
      " [('girl', 0.847267210483551), ('man', 0.832349419593811), ('mother', 0.827568769454956), ('boy', 0.7720510959625244), ('she', 0.7632068395614624), ('child', 0.7601762413978577), ('wife', 0.7505022287368774), ('her', 0.7445706129074097), ('herself', 0.7426273822784424), ('daughter', 0.7264456748962402)]\n",
      "最接近 woman, king 的字彙(附加反義詞 man):\n",
      " [('queen', 0.7698541283607483), ('monarch', 0.6843380928039551), ('throne', 0.6755735874176025), ('daughter', 0.6594556570053101), ('princess', 0.6520534753799438)]\n",
      "挑選最不相同的字彙 breakfast cereal dinner lunch:\n",
      " cereal\n",
      "woman, man 的相似性: 0.8323495\n"
     ]
    }
   ],
   "source": [
    "monitor_version('glove/gensim_glove.6B.100d.txt')"
   ]
  },
  {
   "cell_type": "code",
   "execution_count": 9,
   "metadata": {},
   "outputs": [
    {
     "name": "stdout",
     "output_type": "stream",
     "text": [
      "最接近 woman 的字彙:\n",
      " [('girl', 0.7648226022720337), ('mother', 0.7579867243766785), ('man', 0.7520086765289307), ('she', 0.725415825843811), ('her', 0.7199215888977051), ('wife', 0.6842260956764221), ('herself', 0.683627724647522), ('person', 0.6713380813598633), ('daughter', 0.6616299152374268), ('pregnant', 0.6521728038787842)]\n",
      "最接近 woman, king 的字彙(附加反義詞 man):\n",
      " [('queen', 0.6978678703308105), ('princess', 0.6081745028495789), ('monarch', 0.5889754891395569), ('throne', 0.5775108933448792), ('prince', 0.5750998854637146)]\n",
      "挑選最不相同的字彙 breakfast cereal dinner lunch:\n",
      " cereal\n",
      "woman, man 的相似性: 0.75200856\n"
     ]
    }
   ],
   "source": [
    "monitor_version('glove/gensim_glove.6B.200d.txt')"
   ]
  },
  {
   "cell_type": "code",
   "execution_count": 10,
   "metadata": {},
   "outputs": [
    {
     "name": "stdout",
     "output_type": "stream",
     "text": [
      "最接近 woman 的字彙:\n",
      " [('girl', 0.7296419143676758), ('man', 0.6998662948608398), ('mother', 0.689943790435791), ('she', 0.6433226466178894), ('her', 0.6327143311500549), ('female', 0.6251603960990906), ('herself', 0.6215280294418335), ('person', 0.6170896887779236), ('women', 0.604761004447937), ('wife', 0.5986992120742798)]\n",
      "最接近 woman, king 的字彙(附加反義詞 man):\n",
      " [('queen', 0.6713277101516724), ('princess', 0.5432624220848083), ('throne', 0.5386104583740234), ('monarch', 0.5347574949264526), ('daughter', 0.498025119304657)]\n",
      "挑選最不相同的字彙 breakfast cereal dinner lunch:\n",
      " cereal\n",
      "woman, man 的相似性: 0.6998663\n"
     ]
    }
   ],
   "source": [
    "monitor_version('glove/gensim_glove.6B.300d.txt')"
   ]
  },
  {
   "cell_type": "markdown",
   "metadata": {},
   "source": [
    "當維度變大時，模型訓練的越好，但相對地，載入及訓練時間也較久，在衡量維度的準確以及訓練時間也是相當重要的"
   ]
  }
 ],
 "metadata": {
  "colab": {
   "name": "CH19_作業.ipynb",
   "provenance": []
  },
  "kernelspec": {
   "display_name": "Python 3",
   "language": "python",
   "name": "python3"
  },
  "language_info": {
   "codemirror_mode": {
    "name": "ipython",
    "version": 3
   },
   "file_extension": ".py",
   "mimetype": "text/x-python",
   "name": "python",
   "nbconvert_exporter": "python",
   "pygments_lexer": "ipython3",
   "version": "3.6.5"
  }
 },
 "nbformat": 4,
 "nbformat_minor": 1
}
