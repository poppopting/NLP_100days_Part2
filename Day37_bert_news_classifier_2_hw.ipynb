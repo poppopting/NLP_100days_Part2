{
 "cells": [
  {
   "cell_type": "markdown",
   "metadata": {},
   "source": [
    "# 專題（二）：訓練 Bert 新聞分類器並提升精準度\n",
    "\n",
    "## 專案目標\n",
    "- 目標：請試著建製 BertForSequenceClassification 看得懂的資料集 NewsDataset\n",
    "- news_clustering_train.tsv 中有 1800 篇新聞，六種類別的新聞各 300 篇\n",
    "- news_clustering_test.tsv 中有 600 篇新聞，六種類別的新聞各 100 篇\n",
    "- 六種類別：體育、財經、科技、旅遊、農業、遊戲\n",
    "\n",
    "## 實作提示\n",
    "- STEP1 - STEP4：資料處理\n",
    "- STEP5：創造 train_batch 函數\n",
    "- STEP6：創造 evaluate 函數\n",
    "- STEP7：組合以上元素開始訓練，如果正確 validation accuracy 應該可以超過 90% 以上\n",
    "\n",
    "## 重要知識點：專題結束後你可以學會\n",
    "- 了解 BERT 的 Sequence Classification 任務如何進行\n",
    "- 使用 TRAIN / VALID DATA 來了解深度學習模型的訓練情形\n",
    "- 了解預訓練模型在 NLP 上的威力"
   ]
  },
  {
   "cell_type": "code",
   "execution_count": 1,
   "metadata": {
    "colab": {
     "base_uri": "https://localhost:8080/",
     "height": 34
    },
    "id": "2GDmjOyYMklS",
    "outputId": "d5e54e35-effb-4ba7-b0c0-b3ea0c9c328a"
   },
   "outputs": [
    {
     "name": "stderr",
     "output_type": "stream",
     "text": [
      "Python 3.6.5 :: Anaconda, Inc.\n"
     ]
    }
   ],
   "source": [
    "!python --version"
   ]
  },
  {
   "cell_type": "code",
   "execution_count": 2,
   "metadata": {
    "id": "1JkVfTP5Qn-1"
   },
   "outputs": [],
   "source": [
    "# !pip install -q transformers"
   ]
  },
  {
   "cell_type": "code",
   "execution_count": 3,
   "metadata": {
    "id": "WKW9s5YtMvop"
   },
   "outputs": [],
   "source": [
    "import pandas as pd\n",
    "import numpy as np\n",
    "import gc\n",
    "import torch\n",
    "import torch.optim as optim\n",
    "from torch.utils.data import Dataset, DataLoader\n",
    "from torch.nn.utils.rnn import pad_sequence\n",
    "\n",
    "from transformers import BertTokenizer, BertForSequenceClassification"
   ]
  },
  {
   "cell_type": "code",
   "execution_count": 4,
   "metadata": {
    "id": "i8OlmfVQM7UW"
   },
   "outputs": [],
   "source": [
    "df_train = pd.read_csv('news_clustering_train.tsv', sep='\\t')\n",
    "df_test = pd.read_csv('news_clustering_test.tsv', sep='\\t')"
   ]
  },
  {
   "cell_type": "code",
   "execution_count": 5,
   "metadata": {
    "id": "ivoJVDvnM_Ok"
   },
   "outputs": [],
   "source": [
    "train_titles = {row['index']: row['title'] for _, row in df_train.iterrows()}\n",
    "train_classes = {row['index']: row['class'] for _, row in df_train.iterrows()}\n",
    "\n",
    "valid_titles = {row['index']: row['title'] for _, row in df_test.iterrows()}\n",
    "valid_classes = {row['index']: row['class'] for _, row in df_test.iterrows()}"
   ]
  },
  {
   "cell_type": "code",
   "execution_count": 6,
   "metadata": {
    "id": "QM8vITkwNMJP"
   },
   "outputs": [],
   "source": [
    "ALL_NEWS_CLASSES = ['體育', '財經', '科技', '旅遊', '農業', '遊戲']"
   ]
  },
  {
   "cell_type": "code",
   "execution_count": 7,
   "metadata": {
    "id": "ACnCRl2xNV3r"
   },
   "outputs": [],
   "source": [
    "MODEL_NAME = 'bert-base-chinese'"
   ]
  },
  {
   "cell_type": "code",
   "execution_count": 8,
   "metadata": {
    "id": "rK1yhgITcL3Q"
   },
   "outputs": [],
   "source": [
    "# 建立數據集\n",
    "class NewsDataset(Dataset):\n",
    "    def __init__(self, tokenizer, titles, classes):\n",
    "        self.tokenizer = tokenizer\n",
    "        self.indexes = []\n",
    "        self.texts = []\n",
    "        self.labels = []\n",
    "        for index in titles:\n",
    "            self.indexes.append(index)\n",
    "            self.texts.append(titles[index])\n",
    "            self.labels.append(classes[index])\n",
    "\n",
    "    def __getitem__(self, idx):\n",
    "        text = self.texts[idx]\n",
    "\n",
    "        input = self.tokenizer(text, return_tensors='pt')\n",
    "        label = torch.tensor(ALL_NEWS_CLASSES.index(self.labels[idx]))\n",
    "\n",
    "        return input, label\n",
    "\n",
    "    def __len__(self):\n",
    "        return len(self.indexes)\n",
    "\n",
    "\n",
    "def create_mini_batch(samples):\n",
    "    input_ids = []\n",
    "    token_type_ids = []\n",
    "    attention_mask = []\n",
    "    labels = []\n",
    "    for s in samples:\n",
    "        input_ids.append(s[0]['input_ids'].squeeze(0))\n",
    "        token_type_ids.append(s[0]['token_type_ids'].squeeze(0))\n",
    "        attention_mask.append(s[0]['attention_mask'].squeeze(0))\n",
    "        labels.append(s[1])\n",
    "\n",
    "    # zero pad 到同一序列長度\n",
    "    input_ids = pad_sequence(input_ids, batch_first=True)\n",
    "    token_type_ids = pad_sequence(token_type_ids, batch_first=True)\n",
    "    attention_mask = pad_sequence(attention_mask, batch_first=True)\n",
    " \n",
    "    labels = torch.stack(labels)\n",
    "\n",
    "    return input_ids, token_type_ids, attention_mask, labels"
   ]
  },
  {
   "cell_type": "code",
   "execution_count": 9,
   "metadata": {
    "id": "4cmG8VcfeiNN"
   },
   "outputs": [],
   "source": [
    "batch_size = 8\n",
    "\n",
    "tokenizer = BertTokenizer.from_pretrained(MODEL_NAME)\n",
    "\n",
    "train_dataset = NewsDataset(tokenizer, train_titles, train_classes)\n",
    "valid_dataset = NewsDataset(tokenizer, valid_titles, valid_classes)\n",
    "\n",
    "train_loader = DataLoader(\n",
    "    dataset=train_dataset,\n",
    "    batch_size=batch_size,\n",
    "    collate_fn=create_mini_batch,\n",
    "    shuffle=True)\n",
    "valid_loader = DataLoader(\n",
    "    dataset=valid_dataset,\n",
    "    batch_size=batch_size,\n",
    "    collate_fn=create_mini_batch)"
   ]
  },
  {
   "cell_type": "code",
   "execution_count": 10,
   "metadata": {
    "id": "z4dwpy9GQlY2"
   },
   "outputs": [],
   "source": [
    "def train_batch(model, data, optimizer, device):\n",
    "    model.train()\n",
    "    input_ids, token_type_ids, attention_mask, labels = [d.to(device) for d in data]\n",
    "\n",
    "    outputs = model(\n",
    "        input_ids=input_ids,\n",
    "        token_type_ids=token_type_ids,\n",
    "        attention_mask=attention_mask,\n",
    "        labels=labels\n",
    "    )\n",
    "    loss = outputs.loss\n",
    "\n",
    "    optimizer.zero_grad()\n",
    "    loss.backward()\n",
    "    optimizer.step()\n",
    "    return loss.item()"
   ]
  },
  {
   "cell_type": "code",
   "execution_count": 11,
   "metadata": {
    "id": "1nFmo31hZoLQ"
   },
   "outputs": [],
   "source": [
    "def evaluate(model, valid_loader):\n",
    "    model.eval()\n",
    "    device = 'cuda' if next(model.parameters()).is_cuda else 'cpu'\n",
    "\n",
    "    tot_count = 0\n",
    "    tot_loss = 0\n",
    "    tot_correct = 0\n",
    "\n",
    "    with torch.no_grad():\n",
    "        for data in valid_loader:\n",
    "            input_ids, token_type_ids, attention_mask, labels = [d.to(device) for d in data]\n",
    "\n",
    "            outputs = model(\n",
    "                input_ids=input_ids,\n",
    "                token_type_ids=token_type_ids,\n",
    "                attention_mask=attention_mask,\n",
    "                labels=labels\n",
    "            )\n",
    "            \n",
    "            tot_count += input_ids.size(0)\n",
    "            tot_loss += outputs.loss.item()\n",
    "            tot_correct += (outputs.logits.argmax(dim=-1) == labels).sum().item()\n",
    "    \n",
    "    evaluation = {\n",
    "        'loss': tot_loss / tot_count,\n",
    "        'acc': tot_correct / tot_count\n",
    "    }\n",
    "    return evaluation"
   ]
  },
  {
   "cell_type": "code",
   "execution_count": 12,
   "metadata": {
    "colab": {
     "base_uri": "https://localhost:8080/",
     "height": 1000
    },
    "id": "mg-X2pRHQ2bx",
    "outputId": "66033bd2-e45c-42a5-9bba-733c3f50714d"
   },
   "outputs": [
    {
     "name": "stderr",
     "output_type": "stream",
     "text": [
      "Some weights of the model checkpoint at bert-base-chinese were not used when initializing BertForSequenceClassification: ['cls.predictions.bias', 'cls.predictions.transform.dense.weight', 'cls.predictions.transform.dense.bias', 'cls.predictions.decoder.weight', 'cls.seq_relationship.weight', 'cls.seq_relationship.bias', 'cls.predictions.transform.LayerNorm.weight', 'cls.predictions.transform.LayerNorm.bias']\n",
      "- This IS expected if you are initializing BertForSequenceClassification from the checkpoint of a model trained on another task or with another architecture (e.g. initializing a BertForSequenceClassification model from a BertForPreTraining model).\n",
      "- This IS NOT expected if you are initializing BertForSequenceClassification from the checkpoint of a model that you expect to be exactly identical (initializing a BertForSequenceClassification model from a BertForSequenceClassification model).\n",
      "Some weights of BertForSequenceClassification were not initialized from the model checkpoint at bert-base-chinese and are newly initialized: ['classifier.weight', 'classifier.bias']\n",
      "You should probably TRAIN this model on a down-stream task to be able to use it for predictions and inference.\n"
     ]
    },
    {
     "name": "stdout",
     "output_type": "stream",
     "text": [
      "epoch: 1\n",
      "train_loss:  0.2334042191505432\n",
      "train_loss:  0.2093837559223175\n",
      "train_loss:  0.13452580571174622\n",
      "train_loss:  0.11027217656373978\n",
      "train_loss:  0.04484053701162338\n",
      "train_loss:  0.16523203253746033\n",
      "train_loss:  0.08997034281492233\n",
      "train_loss:  0.1792389452457428\n",
      "train_loss:  0.06420210748910904\n",
      "train_loss:  0.0619545616209507\n",
      "train_loss:  0.09748710691928864\n",
      "train_loss:  0.17977623641490936\n",
      "train_loss:  0.08338291943073273\n",
      "train_loss:  0.1027461364865303\n",
      "train_loss:  0.08422116190195084\n",
      "train_loss:  0.05372351035475731\n",
      "train_loss:  0.10203592479228973\n",
      "train_loss:  0.030771661549806595\n",
      "train_loss:  0.09049246460199356\n",
      "train_loss:  0.20642507076263428\n",
      "train_loss:  0.10489241778850555\n",
      "train_loss:  0.07147029042243958\n",
      "train_loss:  0.15477629005908966\n",
      "valid_evaluation: loss=0.10462973217169444, acc=0.7483333333333333\n",
      "epoch: 2\n",
      "train_loss:  0.1364971250295639\n",
      "train_loss:  0.05330122634768486\n",
      "train_loss:  0.11656426638364792\n",
      "train_loss:  0.22312024235725403\n",
      "train_loss:  0.08275386691093445\n",
      "train_loss:  0.09345819801092148\n",
      "train_loss:  0.01749234087765217\n",
      "train_loss:  0.1557716727256775\n",
      "train_loss:  0.19734500348567963\n",
      "train_loss:  0.13807275891304016\n",
      "train_loss:  0.10850752890110016\n",
      "train_loss:  0.03072737157344818\n",
      "train_loss:  0.15505537390708923\n",
      "train_loss:  0.12623895704746246\n",
      "train_loss:  0.021785540506243706\n",
      "train_loss:  0.0768757089972496\n",
      "train_loss:  0.045452915132045746\n",
      "train_loss:  0.08545710146427155\n",
      "train_loss:  0.05024545267224312\n",
      "train_loss:  0.025089310482144356\n",
      "train_loss:  0.037015900015830994\n",
      "train_loss:  0.04752764850854874\n",
      "train_loss:  0.1643831431865692\n",
      "valid_evaluation: loss=0.08107897593950232, acc=0.7966666666666666\n",
      "epoch: 3\n",
      "train_loss:  0.0931580439209938\n",
      "train_loss:  0.13785426318645477\n",
      "train_loss:  0.06876631081104279\n",
      "train_loss:  0.0798032209277153\n",
      "train_loss:  0.08048065751791\n",
      "train_loss:  0.05779530853033066\n",
      "train_loss:  0.0489276722073555\n",
      "train_loss:  0.050332482904195786\n",
      "train_loss:  0.08680263161659241\n",
      "train_loss:  0.11689639836549759\n",
      "train_loss:  0.07988819479942322\n",
      "train_loss:  0.008190076798200607\n",
      "train_loss:  0.017669539898633957\n",
      "train_loss:  0.10141181200742722\n",
      "train_loss:  0.0661868005990982\n",
      "train_loss:  0.11561981588602066\n",
      "train_loss:  0.009387770667672157\n",
      "train_loss:  0.04221078008413315\n",
      "train_loss:  0.14965678751468658\n",
      "train_loss:  0.09555696696043015\n",
      "train_loss:  0.06094592809677124\n",
      "train_loss:  0.07413193583488464\n",
      "train_loss:  0.0363636389374733\n",
      "valid_evaluation: loss=0.06172387332345049, acc=0.865\n",
      "epoch: 4\n",
      "train_loss:  0.06874765455722809\n",
      "train_loss:  0.025575416162610054\n",
      "train_loss:  0.03678007796406746\n",
      "train_loss:  0.03121597319841385\n",
      "train_loss:  0.09277865290641785\n",
      "train_loss:  0.007213324774056673\n",
      "train_loss:  0.017725011333823204\n",
      "train_loss:  0.06083906441926956\n",
      "train_loss:  0.06582438200712204\n",
      "train_loss:  0.018690461292862892\n",
      "train_loss:  0.014357149600982666\n",
      "train_loss:  0.0485994853079319\n",
      "train_loss:  0.00906592421233654\n",
      "train_loss:  0.05398491397500038\n",
      "train_loss:  0.006568806245923042\n",
      "train_loss:  0.00910290889441967\n",
      "train_loss:  0.10220807790756226\n",
      "train_loss:  0.040081802755594254\n",
      "train_loss:  0.11772996932268143\n",
      "train_loss:  0.03190775215625763\n",
      "train_loss:  0.006500328425318003\n",
      "train_loss:  0.010226672515273094\n",
      "train_loss:  0.08595439791679382\n",
      "valid_evaluation: loss=0.058326800325885414, acc=0.87\n",
      "epoch: 5\n",
      "train_loss:  0.005112908314913511\n",
      "train_loss:  0.08138604462146759\n",
      "train_loss:  0.010664140805602074\n",
      "train_loss:  0.01314656250178814\n",
      "train_loss:  0.059218984097242355\n",
      "train_loss:  0.0713568925857544\n",
      "train_loss:  0.03754526004195213\n",
      "train_loss:  0.007070844992995262\n",
      "train_loss:  0.007900062948465347\n",
      "train_loss:  0.006335567682981491\n",
      "train_loss:  0.03417598083615303\n",
      "train_loss:  0.004804857075214386\n",
      "train_loss:  0.00596713786944747\n",
      "train_loss:  0.007912530563771725\n",
      "train_loss:  0.0903356745839119\n",
      "train_loss:  0.09586409479379654\n",
      "train_loss:  0.0729735717177391\n",
      "train_loss:  0.05912790820002556\n",
      "train_loss:  0.08743588626384735\n",
      "train_loss:  0.03548942506313324\n",
      "train_loss:  0.07579541206359863\n",
      "train_loss:  0.012542253360152245\n",
      "train_loss:  0.027053408324718475\n",
      "valid_evaluation: loss=0.05729732894649108, acc=0.8733333333333333\n"
     ]
    }
   ],
   "source": [
    "# 訓練模型\n",
    "epochs = 5\n",
    "lr = 0.0001\n",
    "\n",
    "device = torch.device('cuda' if torch.cuda.is_available() else 'cpu')\n",
    "\n",
    "model = BertForSequenceClassification.from_pretrained(\n",
    "                                                MODEL_NAME, \n",
    "                                                num_labels = 6, \n",
    "                                                return_dict=True\n",
    "                                            )\n",
    "model.to(device)\n",
    "\n",
    "optimizer = optim.Adam(model.parameters(), lr=lr)\n",
    "scheduler = optim.lr_scheduler.StepLR(optimizer, step_size=2, gamma=0.1)\n",
    "\n",
    "for epoch in range(1, epochs + 1):\n",
    "    print(f'epoch: {epoch}')\n",
    "\n",
    "    for i, train_data in enumerate(train_loader):\n",
    "        loss = train_batch(model, train_data, optimizer, device)\n",
    "        train_size = train_data[0].size(0)\n",
    "\n",
    "        if i % 10 == 0:\n",
    "            print('train_loss: ', loss / train_size)\n",
    "        del train_data\n",
    "        gc.collect()\n",
    "        torch.cuda.empty_cache()\n",
    "    evaluation = evaluate(model, valid_loader)\n",
    "    torch.cuda.empty_cache()\n",
    "    print('valid_evaluation: loss={loss}, acc={acc}'.format(**evaluation))\n",
    "\n",
    "    scheduler.step()    "
   ]
  }
 ],
 "metadata": {
  "accelerator": "GPU",
  "colab": {
   "collapsed_sections": [],
   "name": "bert_news_classifier.ipynb",
   "provenance": []
  },
  "kernelspec": {
   "display_name": "Python 3",
   "language": "python",
   "name": "python3"
  },
  "language_info": {
   "codemirror_mode": {
    "name": "ipython",
    "version": 3
   },
   "file_extension": ".py",
   "mimetype": "text/x-python",
   "name": "python",
   "nbconvert_exporter": "python",
   "pygments_lexer": "ipython3",
   "version": "3.6.5"
  }
 },
 "nbformat": 4,
 "nbformat_minor": 1
}
